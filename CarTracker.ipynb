{
 "cells": [
  {
   "cell_type": "code",
   "execution_count": 1,
   "id": "initial_id",
   "metadata": {
    "collapsed": true,
    "ExecuteTime": {
     "end_time": "2024-01-18T11:33:15.563102400Z",
     "start_time": "2024-01-18T11:33:11.483455200Z"
    }
   },
   "outputs": [],
   "source": [
    "from ultralytics import YOLO\n",
    "import cv2\n",
    "import random"
   ]
  },
  {
   "cell_type": "code",
   "execution_count": 2,
   "outputs": [
    {
     "name": "stdout",
     "output_type": "stream",
     "text": [
      "Ultralytics YOLOv8.1.0 🚀 Python-3.11.5 torch-2.1.2+cu118 CUDA:0 (NVIDIA GeForce RTX 2060, 6144MiB)\n",
      "\u001B[34m\u001B[1mengine\\trainer: \u001B[0mtask=detect, mode=train, model=yolov8m.pt, data=trafic_data/data.yaml, epochs=50, time=None, patience=50, batch=10, imgsz=400, save=True, save_period=-1, cache=False, device=None, workers=8, project=None, name=train, exist_ok=False, pretrained=True, optimizer=auto, verbose=True, seed=0, deterministic=True, single_cls=False, rect=False, cos_lr=False, close_mosaic=10, resume=False, amp=True, fraction=1.0, profile=False, freeze=None, multi_scale=False, overlap_mask=True, mask_ratio=4, dropout=0.0, val=True, split=val, save_json=False, save_hybrid=False, conf=None, iou=0.7, max_det=300, half=False, dnn=False, plots=True, source=None, vid_stride=1, stream_buffer=False, visualize=False, augment=False, agnostic_nms=False, classes=None, retina_masks=False, embed=None, show=False, save_frames=False, save_txt=False, save_conf=False, save_crop=False, show_labels=True, show_conf=True, show_boxes=True, line_width=None, format=torchscript, keras=False, optimize=False, int8=False, dynamic=False, simplify=False, opset=None, workspace=4, nms=False, lr0=0.01, lrf=0.01, momentum=0.937, weight_decay=0.0005, warmup_epochs=3.0, warmup_momentum=0.8, warmup_bias_lr=0.1, box=7.5, cls=0.5, dfl=1.5, pose=12.0, kobj=1.0, label_smoothing=0.0, nbs=64, hsv_h=0.015, hsv_s=0.7, hsv_v=0.4, degrees=0.0, translate=0.1, scale=0.5, shear=0.0, perspective=0.0, flipud=0.0, fliplr=0.5, mosaic=1.0, mixup=0.0, copy_paste=0.0, auto_augment=randaugment, erasing=0.4, crop_fraction=1.0, cfg=None, tracker=botsort.yaml, save_dir=runs\\detect\\train\n",
      "Overriding model.yaml nc=80 with nc=21\n",
      "\n",
      "                   from  n    params  module                                       arguments                     \n",
      "  0                  -1  1      1392  ultralytics.nn.modules.conv.Conv             [3, 48, 3, 2]                 \n",
      "  1                  -1  1     41664  ultralytics.nn.modules.conv.Conv             [48, 96, 3, 2]                \n",
      "  2                  -1  2    111360  ultralytics.nn.modules.block.C2f             [96, 96, 2, True]             \n",
      "  3                  -1  1    166272  ultralytics.nn.modules.conv.Conv             [96, 192, 3, 2]               \n",
      "  4                  -1  4    813312  ultralytics.nn.modules.block.C2f             [192, 192, 4, True]           \n",
      "  5                  -1  1    664320  ultralytics.nn.modules.conv.Conv             [192, 384, 3, 2]              \n",
      "  6                  -1  4   3248640  ultralytics.nn.modules.block.C2f             [384, 384, 4, True]           \n",
      "  7                  -1  1   1991808  ultralytics.nn.modules.conv.Conv             [384, 576, 3, 2]              \n",
      "  8                  -1  2   3985920  ultralytics.nn.modules.block.C2f             [576, 576, 2, True]           \n",
      "  9                  -1  1    831168  ultralytics.nn.modules.block.SPPF            [576, 576, 5]                 \n",
      " 10                  -1  1         0  torch.nn.modules.upsampling.Upsample         [None, 2, 'nearest']          \n",
      " 11             [-1, 6]  1         0  ultralytics.nn.modules.conv.Concat           [1]                           \n",
      " 12                  -1  2   1993728  ultralytics.nn.modules.block.C2f             [960, 384, 2]                 \n",
      " 13                  -1  1         0  torch.nn.modules.upsampling.Upsample         [None, 2, 'nearest']          \n",
      " 14             [-1, 4]  1         0  ultralytics.nn.modules.conv.Concat           [1]                           \n",
      " 15                  -1  2    517632  ultralytics.nn.modules.block.C2f             [576, 192, 2]                 \n",
      " 16                  -1  1    332160  ultralytics.nn.modules.conv.Conv             [192, 192, 3, 2]              \n",
      " 17            [-1, 12]  1         0  ultralytics.nn.modules.conv.Concat           [1]                           \n",
      " 18                  -1  2   1846272  ultralytics.nn.modules.block.C2f             [576, 384, 2]                 \n",
      " 19                  -1  1   1327872  ultralytics.nn.modules.conv.Conv             [384, 384, 3, 2]              \n",
      " 20             [-1, 9]  1         0  ultralytics.nn.modules.conv.Concat           [1]                           \n",
      " 21                  -1  2   4207104  ultralytics.nn.modules.block.C2f             [960, 576, 2]                 \n",
      " 22        [15, 18, 21]  1   3787855  ultralytics.nn.modules.head.Detect           [21, [192, 384, 576]]         \n",
      "Model summary: 295 layers, 25868479 parameters, 25868463 gradients, 79.1 GFLOPs\n",
      "Transferred 469/475 items from pretrained weights\n",
      "Freezing layer 'model.22.dfl.conv.weight'\n",
      "\u001B[34m\u001B[1mAMP: \u001B[0mrunning Automatic Mixed Precision (AMP) checks with YOLOv8n...\n",
      "\u001B[34m\u001B[1mAMP: \u001B[0mchecks passed ✅\n",
      "WARNING ⚠️ imgsz=[400] must be multiple of max stride 32, updating to [416]\n"
     ]
    },
    {
     "name": "stderr",
     "output_type": "stream",
     "text": [
      "\u001B[34m\u001B[1mtrain: \u001B[0mScanning F:\\IT\\ML\\YOLOCarTracker\\trafic_data\\train\\labels.cache... 2704 images, 2 backgrounds, 0 corrupt: 100%|██████████| 2704/2704 [00:00<?, ?it/s]\n",
      "\u001B[34m\u001B[1mval: \u001B[0mScanning F:\\IT\\ML\\YOLOCarTracker\\trafic_data\\valid\\labels.cache... 300 images, 0 backgrounds, 0 corrupt: 100%|██████████| 300/300 [00:00<?, ?it/s]"
     ]
    },
    {
     "name": "stdout",
     "output_type": "stream",
     "text": [
      "\u001B[34m\u001B[1mval: \u001B[0mWARNING ⚠️ F:\\IT\\ML\\YOLOCarTracker\\trafic_data\\valid\\images\\Pias--359-_PNG.rf.43bcf36efe5cf8c37552d2c45fffea60.jpg: 9 duplicate labels removed\n",
      "\u001B[34m\u001B[1mval: \u001B[0mWARNING ⚠️ F:\\IT\\ML\\YOLOCarTracker\\trafic_data\\valid\\images\\Pias--360-_PNG.rf.8405b0e44009a9300e0a1100ccf7d5b3.jpg: 7 duplicate labels removed\n"
     ]
    },
    {
     "name": "stderr",
     "output_type": "stream",
     "text": [
      "\n"
     ]
    },
    {
     "name": "stdout",
     "output_type": "stream",
     "text": [
      "Plotting labels to runs\\detect\\train\\labels.jpg... \n",
      "\u001B[34m\u001B[1moptimizer:\u001B[0m 'optimizer=auto' found, ignoring 'lr0=0.01' and 'momentum=0.937' and determining best 'optimizer', 'lr0' and 'momentum' automatically... \n",
      "\u001B[34m\u001B[1moptimizer:\u001B[0m AdamW(lr=0.0004, momentum=0.9) with parameter groups 77 weight(decay=0.0), 84 weight(decay=0.00046875), 83 bias(decay=0.0)\n",
      "50 epochs...\n",
      "\n",
      "      Epoch    GPU_mem   box_loss   cls_loss   dfl_loss  Instances       Size\n"
     ]
    },
    {
     "name": "stderr",
     "output_type": "stream",
     "text": [
      "       1/50      2.38G      1.339      2.016      1.107         34        416: 100%|██████████| 271/271 [00:51<00:00,  5.29it/s]\n",
      "                 Class     Images  Instances      Box(P          R      mAP50  mAP50-95): 100%|██████████| 15/15 [00:02<00:00,  5.67it/s]"
     ]
    },
    {
     "name": "stdout",
     "output_type": "stream",
     "text": [
      "                   all        300       2568      0.511       0.28      0.264      0.156\n"
     ]
    },
    {
     "name": "stderr",
     "output_type": "stream",
     "text": [
      "\n"
     ]
    },
    {
     "name": "stdout",
     "output_type": "stream",
     "text": [
      "\n",
      "      Epoch    GPU_mem   box_loss   cls_loss   dfl_loss  Instances       Size\n"
     ]
    },
    {
     "name": "stderr",
     "output_type": "stream",
     "text": [
      "       2/50       2.4G       1.29      1.432      1.108         76        416: 100%|██████████| 271/271 [00:48<00:00,  5.54it/s]\n",
      "                 Class     Images  Instances      Box(P          R      mAP50  mAP50-95): 100%|██████████| 15/15 [00:02<00:00,  5.81it/s]"
     ]
    },
    {
     "name": "stdout",
     "output_type": "stream",
     "text": [
      "                   all        300       2568      0.554      0.318      0.312      0.188\n"
     ]
    },
    {
     "name": "stderr",
     "output_type": "stream",
     "text": [
      "\n"
     ]
    },
    {
     "name": "stdout",
     "output_type": "stream",
     "text": [
      "\n",
      "      Epoch    GPU_mem   box_loss   cls_loss   dfl_loss  Instances       Size\n"
     ]
    },
    {
     "name": "stderr",
     "output_type": "stream",
     "text": [
      "       3/50      2.38G      1.304       1.37       1.11         43        416: 100%|██████████| 271/271 [00:48<00:00,  5.56it/s]\n",
      "                 Class     Images  Instances      Box(P          R      mAP50  mAP50-95): 100%|██████████| 15/15 [00:02<00:00,  5.47it/s]"
     ]
    },
    {
     "name": "stdout",
     "output_type": "stream",
     "text": [
      "                   all        300       2568      0.602      0.282      0.288      0.172\n"
     ]
    },
    {
     "name": "stderr",
     "output_type": "stream",
     "text": [
      "\n"
     ]
    },
    {
     "name": "stdout",
     "output_type": "stream",
     "text": [
      "\n",
      "      Epoch    GPU_mem   box_loss   cls_loss   dfl_loss  Instances       Size\n"
     ]
    },
    {
     "name": "stderr",
     "output_type": "stream",
     "text": [
      "       4/50      2.41G      1.293      1.328       1.11        100        416: 100%|██████████| 271/271 [00:49<00:00,  5.52it/s]\n",
      "                 Class     Images  Instances      Box(P          R      mAP50  mAP50-95): 100%|██████████| 15/15 [00:02<00:00,  5.96it/s]\n"
     ]
    },
    {
     "name": "stdout",
     "output_type": "stream",
     "text": [
      "                   all        300       2568      0.527      0.307      0.336      0.195\n",
      "\n",
      "      Epoch    GPU_mem   box_loss   cls_loss   dfl_loss  Instances       Size\n"
     ]
    },
    {
     "name": "stderr",
     "output_type": "stream",
     "text": [
      "       5/50      2.51G      1.289      1.273      1.107         29        416: 100%|██████████| 271/271 [00:49<00:00,  5.52it/s]\n",
      "                 Class     Images  Instances      Box(P          R      mAP50  mAP50-95): 100%|██████████| 15/15 [00:02<00:00,  5.97it/s]\n"
     ]
    },
    {
     "name": "stdout",
     "output_type": "stream",
     "text": [
      "                   all        300       2568      0.547      0.395      0.369      0.222\n",
      "\n",
      "      Epoch    GPU_mem   box_loss   cls_loss   dfl_loss  Instances       Size\n"
     ]
    },
    {
     "name": "stderr",
     "output_type": "stream",
     "text": [
      "       6/50       2.4G      1.255      1.218      1.096         43        416: 100%|██████████| 271/271 [00:48<00:00,  5.53it/s]\n",
      "                 Class     Images  Instances      Box(P          R      mAP50  mAP50-95): 100%|██████████| 15/15 [00:02<00:00,  6.19it/s]"
     ]
    },
    {
     "name": "stdout",
     "output_type": "stream",
     "text": [
      "                   all        300       2568      0.471      0.386       0.34      0.201\n"
     ]
    },
    {
     "name": "stderr",
     "output_type": "stream",
     "text": [
      "\n"
     ]
    },
    {
     "name": "stdout",
     "output_type": "stream",
     "text": [
      "\n",
      "      Epoch    GPU_mem   box_loss   cls_loss   dfl_loss  Instances       Size\n"
     ]
    },
    {
     "name": "stderr",
     "output_type": "stream",
     "text": [
      "       7/50      2.34G      1.253      1.185      1.086         75        416: 100%|██████████| 271/271 [00:49<00:00,  5.52it/s]\n",
      "                 Class     Images  Instances      Box(P          R      mAP50  mAP50-95): 100%|██████████| 15/15 [00:02<00:00,  6.06it/s]\n"
     ]
    },
    {
     "name": "stdout",
     "output_type": "stream",
     "text": [
      "                   all        300       2568      0.577      0.371      0.351      0.204\n",
      "\n",
      "      Epoch    GPU_mem   box_loss   cls_loss   dfl_loss  Instances       Size\n"
     ]
    },
    {
     "name": "stderr",
     "output_type": "stream",
     "text": [
      "       8/50      2.36G      1.225      1.142      1.079        149        416: 100%|██████████| 271/271 [00:49<00:00,  5.51it/s]\n",
      "                 Class     Images  Instances      Box(P          R      mAP50  mAP50-95): 100%|██████████| 15/15 [00:02<00:00,  6.57it/s]\n"
     ]
    },
    {
     "name": "stdout",
     "output_type": "stream",
     "text": [
      "                   all        300       2568      0.574      0.372      0.376      0.222\n",
      "\n",
      "      Epoch    GPU_mem   box_loss   cls_loss   dfl_loss  Instances       Size\n"
     ]
    },
    {
     "name": "stderr",
     "output_type": "stream",
     "text": [
      "       9/50      2.36G      1.215        1.1      1.077         40        416: 100%|██████████| 271/271 [00:49<00:00,  5.45it/s]\n",
      "                 Class     Images  Instances      Box(P          R      mAP50  mAP50-95): 100%|██████████| 15/15 [00:02<00:00,  6.56it/s]"
     ]
    },
    {
     "name": "stdout",
     "output_type": "stream",
     "text": [
      "                   all        300       2568      0.626      0.363      0.357      0.217\n"
     ]
    },
    {
     "name": "stderr",
     "output_type": "stream",
     "text": [
      "\n"
     ]
    },
    {
     "name": "stdout",
     "output_type": "stream",
     "text": [
      "\n",
      "      Epoch    GPU_mem   box_loss   cls_loss   dfl_loss  Instances       Size\n"
     ]
    },
    {
     "name": "stderr",
     "output_type": "stream",
     "text": [
      "      10/50      2.41G      1.209      1.078      1.069         89        416: 100%|██████████| 271/271 [00:49<00:00,  5.44it/s]\n",
      "                 Class     Images  Instances      Box(P          R      mAP50  mAP50-95): 100%|██████████| 15/15 [00:02<00:00,  6.12it/s]\n"
     ]
    },
    {
     "name": "stdout",
     "output_type": "stream",
     "text": [
      "                   all        300       2568      0.573      0.339      0.362      0.223\n",
      "\n",
      "      Epoch    GPU_mem   box_loss   cls_loss   dfl_loss  Instances       Size\n"
     ]
    },
    {
     "name": "stderr",
     "output_type": "stream",
     "text": [
      "      11/50      2.36G      1.194      1.062      1.063         68        416: 100%|██████████| 271/271 [00:49<00:00,  5.49it/s]\n",
      "                 Class     Images  Instances      Box(P          R      mAP50  mAP50-95): 100%|██████████| 15/15 [00:02<00:00,  6.40it/s]"
     ]
    },
    {
     "name": "stdout",
     "output_type": "stream",
     "text": [
      "                   all        300       2568      0.596      0.404       0.38      0.223\n"
     ]
    },
    {
     "name": "stderr",
     "output_type": "stream",
     "text": [
      "\n"
     ]
    },
    {
     "name": "stdout",
     "output_type": "stream",
     "text": [
      "\n",
      "      Epoch    GPU_mem   box_loss   cls_loss   dfl_loss  Instances       Size\n"
     ]
    },
    {
     "name": "stderr",
     "output_type": "stream",
     "text": [
      "      12/50      2.35G      1.174      1.031      1.059         40        416: 100%|██████████| 271/271 [00:49<00:00,  5.48it/s]\n",
      "                 Class     Images  Instances      Box(P          R      mAP50  mAP50-95): 100%|██████████| 15/15 [00:02<00:00,  6.58it/s]"
     ]
    },
    {
     "name": "stdout",
     "output_type": "stream",
     "text": [
      "                   all        300       2568      0.622      0.378       0.39      0.237\n"
     ]
    },
    {
     "name": "stderr",
     "output_type": "stream",
     "text": [
      "\n"
     ]
    },
    {
     "name": "stdout",
     "output_type": "stream",
     "text": [
      "\n",
      "      Epoch    GPU_mem   box_loss   cls_loss   dfl_loss  Instances       Size\n"
     ]
    },
    {
     "name": "stderr",
     "output_type": "stream",
     "text": [
      "      13/50      2.34G      1.158      0.991      1.043         27        416: 100%|██████████| 271/271 [00:49<00:00,  5.47it/s]\n",
      "                 Class     Images  Instances      Box(P          R      mAP50  mAP50-95): 100%|██████████| 15/15 [00:02<00:00,  6.78it/s]"
     ]
    },
    {
     "name": "stdout",
     "output_type": "stream",
     "text": [
      "                   all        300       2568      0.583      0.408      0.404      0.252\n"
     ]
    },
    {
     "name": "stderr",
     "output_type": "stream",
     "text": [
      "\n"
     ]
    },
    {
     "name": "stdout",
     "output_type": "stream",
     "text": [
      "\n",
      "      Epoch    GPU_mem   box_loss   cls_loss   dfl_loss  Instances       Size\n"
     ]
    },
    {
     "name": "stderr",
     "output_type": "stream",
     "text": [
      "      14/50      2.35G      1.149     0.9809      1.041         32        416: 100%|██████████| 271/271 [00:49<00:00,  5.47it/s]\n",
      "                 Class     Images  Instances      Box(P          R      mAP50  mAP50-95): 100%|██████████| 15/15 [00:02<00:00,  6.44it/s]\n"
     ]
    },
    {
     "name": "stdout",
     "output_type": "stream",
     "text": [
      "                   all        300       2568       0.56      0.409      0.383      0.229\n",
      "\n",
      "      Epoch    GPU_mem   box_loss   cls_loss   dfl_loss  Instances       Size\n"
     ]
    },
    {
     "name": "stderr",
     "output_type": "stream",
     "text": [
      "      15/50      2.32G      1.147     0.9625      1.043         37        416: 100%|██████████| 271/271 [00:49<00:00,  5.48it/s]\n",
      "                 Class     Images  Instances      Box(P          R      mAP50  mAP50-95): 100%|██████████| 15/15 [00:02<00:00,  6.74it/s]\n"
     ]
    },
    {
     "name": "stdout",
     "output_type": "stream",
     "text": [
      "                   all        300       2568      0.597      0.394      0.418      0.259\n",
      "\n",
      "      Epoch    GPU_mem   box_loss   cls_loss   dfl_loss  Instances       Size\n"
     ]
    },
    {
     "name": "stderr",
     "output_type": "stream",
     "text": [
      "      16/50      2.39G      1.131     0.9436      1.036         66        416: 100%|██████████| 271/271 [00:49<00:00,  5.47it/s]\n",
      "                 Class     Images  Instances      Box(P          R      mAP50  mAP50-95): 100%|██████████| 15/15 [00:02<00:00,  6.63it/s]\n"
     ]
    },
    {
     "name": "stdout",
     "output_type": "stream",
     "text": [
      "                   all        300       2568      0.593      0.397      0.402      0.239\n",
      "\n",
      "      Epoch    GPU_mem   box_loss   cls_loss   dfl_loss  Instances       Size\n"
     ]
    },
    {
     "name": "stderr",
     "output_type": "stream",
     "text": [
      "      17/50      2.36G      1.118     0.9175      1.026         78        416: 100%|██████████| 271/271 [00:49<00:00,  5.46it/s]\n",
      "                 Class     Images  Instances      Box(P          R      mAP50  mAP50-95): 100%|██████████| 15/15 [00:02<00:00,  6.72it/s]\n"
     ]
    },
    {
     "name": "stdout",
     "output_type": "stream",
     "text": [
      "                   all        300       2568      0.581      0.424      0.402      0.243\n",
      "\n",
      "      Epoch    GPU_mem   box_loss   cls_loss   dfl_loss  Instances       Size\n"
     ]
    },
    {
     "name": "stderr",
     "output_type": "stream",
     "text": [
      "      18/50      2.36G      1.104     0.8923      1.022         82        416: 100%|██████████| 271/271 [00:49<00:00,  5.45it/s]\n",
      "                 Class     Images  Instances      Box(P          R      mAP50  mAP50-95): 100%|██████████| 15/15 [00:02<00:00,  6.56it/s]\n"
     ]
    },
    {
     "name": "stdout",
     "output_type": "stream",
     "text": [
      "                   all        300       2568      0.721      0.361      0.433      0.263\n",
      "\n",
      "      Epoch    GPU_mem   box_loss   cls_loss   dfl_loss  Instances       Size\n"
     ]
    },
    {
     "name": "stderr",
     "output_type": "stream",
     "text": [
      "      19/50      2.36G      1.097     0.8795      1.023        100        416: 100%|██████████| 271/271 [00:49<00:00,  5.45it/s]\n",
      "                 Class     Images  Instances      Box(P          R      mAP50  mAP50-95): 100%|██████████| 15/15 [00:02<00:00,  6.61it/s]"
     ]
    },
    {
     "name": "stdout",
     "output_type": "stream",
     "text": [
      "                   all        300       2568      0.603      0.452      0.484      0.269\n"
     ]
    },
    {
     "name": "stderr",
     "output_type": "stream",
     "text": [
      "\n"
     ]
    },
    {
     "name": "stdout",
     "output_type": "stream",
     "text": [
      "\n",
      "      Epoch    GPU_mem   box_loss   cls_loss   dfl_loss  Instances       Size\n"
     ]
    },
    {
     "name": "stderr",
     "output_type": "stream",
     "text": [
      "      20/50      2.47G       1.08     0.8584      1.009         26        416: 100%|██████████| 271/271 [00:49<00:00,  5.44it/s]\n",
      "                 Class     Images  Instances      Box(P          R      mAP50  mAP50-95): 100%|██████████| 15/15 [00:02<00:00,  6.38it/s]"
     ]
    },
    {
     "name": "stdout",
     "output_type": "stream",
     "text": [
      "                   all        300       2568      0.665      0.462      0.511      0.294\n"
     ]
    },
    {
     "name": "stderr",
     "output_type": "stream",
     "text": [
      "\n"
     ]
    },
    {
     "name": "stdout",
     "output_type": "stream",
     "text": [
      "\n",
      "      Epoch    GPU_mem   box_loss   cls_loss   dfl_loss  Instances       Size\n"
     ]
    },
    {
     "name": "stderr",
     "output_type": "stream",
     "text": [
      "      21/50      2.41G      1.084     0.8497      1.012         82        416: 100%|██████████| 271/271 [00:49<00:00,  5.44it/s]\n",
      "                 Class     Images  Instances      Box(P          R      mAP50  mAP50-95): 100%|██████████| 15/15 [00:02<00:00,  6.74it/s]"
     ]
    },
    {
     "name": "stdout",
     "output_type": "stream",
     "text": [
      "                   all        300       2568      0.681       0.41      0.429      0.257\n"
     ]
    },
    {
     "name": "stderr",
     "output_type": "stream",
     "text": [
      "\n"
     ]
    },
    {
     "name": "stdout",
     "output_type": "stream",
     "text": [
      "\n",
      "      Epoch    GPU_mem   box_loss   cls_loss   dfl_loss  Instances       Size\n"
     ]
    },
    {
     "name": "stderr",
     "output_type": "stream",
     "text": [
      "      22/50      2.38G      1.064     0.8257      1.003         57        416: 100%|██████████| 271/271 [00:49<00:00,  5.45it/s]\n",
      "                 Class     Images  Instances      Box(P          R      mAP50  mAP50-95): 100%|██████████| 15/15 [00:02<00:00,  6.60it/s]"
     ]
    },
    {
     "name": "stdout",
     "output_type": "stream",
     "text": [
      "                   all        300       2568      0.657      0.358      0.443      0.268\n"
     ]
    },
    {
     "name": "stderr",
     "output_type": "stream",
     "text": [
      "\n"
     ]
    },
    {
     "name": "stdout",
     "output_type": "stream",
     "text": [
      "\n",
      "      Epoch    GPU_mem   box_loss   cls_loss   dfl_loss  Instances       Size\n"
     ]
    },
    {
     "name": "stderr",
     "output_type": "stream",
     "text": [
      "      23/50      2.38G      1.059     0.8125      1.004         47        416: 100%|██████████| 271/271 [00:49<00:00,  5.44it/s]\n",
      "                 Class     Images  Instances      Box(P          R      mAP50  mAP50-95): 100%|██████████| 15/15 [00:02<00:00,  6.51it/s]"
     ]
    },
    {
     "name": "stdout",
     "output_type": "stream",
     "text": [
      "                   all        300       2568      0.599       0.39      0.481      0.265\n"
     ]
    },
    {
     "name": "stderr",
     "output_type": "stream",
     "text": [
      "\n"
     ]
    },
    {
     "name": "stdout",
     "output_type": "stream",
     "text": [
      "\n",
      "      Epoch    GPU_mem   box_loss   cls_loss   dfl_loss  Instances       Size\n"
     ]
    },
    {
     "name": "stderr",
     "output_type": "stream",
     "text": [
      "      24/50      2.38G      1.051     0.7962      1.001         78        416: 100%|██████████| 271/271 [00:49<00:00,  5.45it/s]\n",
      "                 Class     Images  Instances      Box(P          R      mAP50  mAP50-95): 100%|██████████| 15/15 [00:02<00:00,  6.65it/s]"
     ]
    },
    {
     "name": "stdout",
     "output_type": "stream",
     "text": [
      "                   all        300       2568      0.507        0.5      0.456      0.265\n"
     ]
    },
    {
     "name": "stderr",
     "output_type": "stream",
     "text": [
      "\n"
     ]
    },
    {
     "name": "stdout",
     "output_type": "stream",
     "text": [
      "\n",
      "      Epoch    GPU_mem   box_loss   cls_loss   dfl_loss  Instances       Size\n"
     ]
    },
    {
     "name": "stderr",
     "output_type": "stream",
     "text": [
      "      25/50      2.34G      1.039     0.7974     0.9985         84        416: 100%|██████████| 271/271 [00:49<00:00,  5.45it/s]\n",
      "                 Class     Images  Instances      Box(P          R      mAP50  mAP50-95): 100%|██████████| 15/15 [00:02<00:00,  6.75it/s]"
     ]
    },
    {
     "name": "stdout",
     "output_type": "stream",
     "text": [
      "                   all        300       2568      0.662       0.45      0.503      0.275\n"
     ]
    },
    {
     "name": "stderr",
     "output_type": "stream",
     "text": [
      "\n"
     ]
    },
    {
     "name": "stdout",
     "output_type": "stream",
     "text": [
      "\n",
      "      Epoch    GPU_mem   box_loss   cls_loss   dfl_loss  Instances       Size\n"
     ]
    },
    {
     "name": "stderr",
     "output_type": "stream",
     "text": [
      "      26/50      2.45G      1.039     0.7766     0.9922         37        416: 100%|██████████| 271/271 [00:49<00:00,  5.43it/s]\n",
      "                 Class     Images  Instances      Box(P          R      mAP50  mAP50-95): 100%|██████████| 15/15 [00:02<00:00,  6.69it/s]\n"
     ]
    },
    {
     "name": "stdout",
     "output_type": "stream",
     "text": [
      "                   all        300       2568      0.667      0.463      0.499      0.283\n",
      "\n",
      "      Epoch    GPU_mem   box_loss   cls_loss   dfl_loss  Instances       Size\n"
     ]
    },
    {
     "name": "stderr",
     "output_type": "stream",
     "text": [
      "      27/50      2.35G       1.03     0.7602     0.9861         91        416: 100%|██████████| 271/271 [00:49<00:00,  5.44it/s]\n",
      "                 Class     Images  Instances      Box(P          R      mAP50  mAP50-95): 100%|██████████| 15/15 [00:02<00:00,  6.78it/s]"
     ]
    },
    {
     "name": "stdout",
     "output_type": "stream",
     "text": [
      "                   all        300       2568      0.728      0.427      0.503      0.302\n"
     ]
    },
    {
     "name": "stderr",
     "output_type": "stream",
     "text": [
      "\n"
     ]
    },
    {
     "name": "stdout",
     "output_type": "stream",
     "text": [
      "\n",
      "      Epoch    GPU_mem   box_loss   cls_loss   dfl_loss  Instances       Size\n"
     ]
    },
    {
     "name": "stderr",
     "output_type": "stream",
     "text": [
      "      28/50      2.45G      1.011     0.7467     0.9817         50        416: 100%|██████████| 271/271 [00:49<00:00,  5.45it/s]\n",
      "                 Class     Images  Instances      Box(P          R      mAP50  mAP50-95): 100%|██████████| 15/15 [00:02<00:00,  6.60it/s]"
     ]
    },
    {
     "name": "stdout",
     "output_type": "stream",
     "text": [
      "                   all        300       2568      0.592      0.477      0.482      0.285\n"
     ]
    },
    {
     "name": "stderr",
     "output_type": "stream",
     "text": [
      "\n"
     ]
    },
    {
     "name": "stdout",
     "output_type": "stream",
     "text": [
      "\n",
      "      Epoch    GPU_mem   box_loss   cls_loss   dfl_loss  Instances       Size\n"
     ]
    },
    {
     "name": "stderr",
     "output_type": "stream",
     "text": [
      "      29/50      2.34G      1.008     0.7431     0.9861         41        416: 100%|██████████| 271/271 [00:49<00:00,  5.46it/s]\n",
      "                 Class     Images  Instances      Box(P          R      mAP50  mAP50-95): 100%|██████████| 15/15 [00:02<00:00,  6.68it/s]"
     ]
    },
    {
     "name": "stdout",
     "output_type": "stream",
     "text": [
      "                   all        300       2568      0.708      0.451      0.513      0.295\n"
     ]
    },
    {
     "name": "stderr",
     "output_type": "stream",
     "text": [
      "\n"
     ]
    },
    {
     "name": "stdout",
     "output_type": "stream",
     "text": [
      "\n",
      "      Epoch    GPU_mem   box_loss   cls_loss   dfl_loss  Instances       Size\n"
     ]
    },
    {
     "name": "stderr",
     "output_type": "stream",
     "text": [
      "      30/50      2.44G     0.9911     0.7224     0.9744         33        416: 100%|██████████| 271/271 [00:49<00:00,  5.45it/s]\n",
      "                 Class     Images  Instances      Box(P          R      mAP50  mAP50-95): 100%|██████████| 15/15 [00:02<00:00,  6.65it/s]"
     ]
    },
    {
     "name": "stdout",
     "output_type": "stream",
     "text": [
      "                   all        300       2568      0.602      0.497      0.484      0.278\n"
     ]
    },
    {
     "name": "stderr",
     "output_type": "stream",
     "text": [
      "\n"
     ]
    },
    {
     "name": "stdout",
     "output_type": "stream",
     "text": [
      "\n",
      "      Epoch    GPU_mem   box_loss   cls_loss   dfl_loss  Instances       Size\n"
     ]
    },
    {
     "name": "stderr",
     "output_type": "stream",
     "text": [
      "      31/50      2.37G     0.9842     0.7158     0.9726         31        416: 100%|██████████| 271/271 [00:49<00:00,  5.45it/s]\n",
      "                 Class     Images  Instances      Box(P          R      mAP50  mAP50-95): 100%|██████████| 15/15 [00:02<00:00,  6.81it/s]"
     ]
    },
    {
     "name": "stdout",
     "output_type": "stream",
     "text": [
      "                   all        300       2568      0.607      0.478      0.504      0.288\n"
     ]
    },
    {
     "name": "stderr",
     "output_type": "stream",
     "text": [
      "\n"
     ]
    },
    {
     "name": "stdout",
     "output_type": "stream",
     "text": [
      "\n",
      "      Epoch    GPU_mem   box_loss   cls_loss   dfl_loss  Instances       Size\n"
     ]
    },
    {
     "name": "stderr",
     "output_type": "stream",
     "text": [
      "      32/50      2.33G     0.9887     0.7013      0.969         43        416: 100%|██████████| 271/271 [00:49<00:00,  5.44it/s]\n",
      "                 Class     Images  Instances      Box(P          R      mAP50  mAP50-95): 100%|██████████| 15/15 [00:02<00:00,  6.14it/s]"
     ]
    },
    {
     "name": "stdout",
     "output_type": "stream",
     "text": [
      "                   all        300       2568      0.597      0.471      0.508      0.293\n"
     ]
    },
    {
     "name": "stderr",
     "output_type": "stream",
     "text": [
      "\n"
     ]
    },
    {
     "name": "stdout",
     "output_type": "stream",
     "text": [
      "\n",
      "      Epoch    GPU_mem   box_loss   cls_loss   dfl_loss  Instances       Size\n"
     ]
    },
    {
     "name": "stderr",
     "output_type": "stream",
     "text": [
      "      33/50       2.4G     0.9827     0.6946     0.9685        109        416: 100%|██████████| 271/271 [00:50<00:00,  5.41it/s]\n",
      "                 Class     Images  Instances      Box(P          R      mAP50  mAP50-95): 100%|██████████| 15/15 [00:02<00:00,  6.74it/s]"
     ]
    },
    {
     "name": "stdout",
     "output_type": "stream",
     "text": [
      "                   all        300       2568      0.692      0.474      0.516      0.303\n"
     ]
    },
    {
     "name": "stderr",
     "output_type": "stream",
     "text": [
      "\n"
     ]
    },
    {
     "name": "stdout",
     "output_type": "stream",
     "text": [
      "\n",
      "      Epoch    GPU_mem   box_loss   cls_loss   dfl_loss  Instances       Size\n"
     ]
    },
    {
     "name": "stderr",
     "output_type": "stream",
     "text": [
      "      34/50      2.34G     0.9633     0.6812      0.965         39        416: 100%|██████████| 271/271 [00:49<00:00,  5.45it/s]\n",
      "                 Class     Images  Instances      Box(P          R      mAP50  mAP50-95): 100%|██████████| 15/15 [00:02<00:00,  6.62it/s]\n"
     ]
    },
    {
     "name": "stdout",
     "output_type": "stream",
     "text": [
      "                   all        300       2568      0.609      0.458      0.503      0.292\n",
      "\n",
      "      Epoch    GPU_mem   box_loss   cls_loss   dfl_loss  Instances       Size\n"
     ]
    },
    {
     "name": "stderr",
     "output_type": "stream",
     "text": [
      "      35/50      2.34G      0.952     0.6558     0.9585         87        416: 100%|██████████| 271/271 [00:49<00:00,  5.43it/s]\n",
      "                 Class     Images  Instances      Box(P          R      mAP50  mAP50-95): 100%|██████████| 15/15 [00:02<00:00,  6.67it/s]"
     ]
    },
    {
     "name": "stdout",
     "output_type": "stream",
     "text": [
      "                   all        300       2568      0.616      0.463      0.508      0.287\n"
     ]
    },
    {
     "name": "stderr",
     "output_type": "stream",
     "text": [
      "\n"
     ]
    },
    {
     "name": "stdout",
     "output_type": "stream",
     "text": [
      "\n",
      "      Epoch    GPU_mem   box_loss   cls_loss   dfl_loss  Instances       Size\n"
     ]
    },
    {
     "name": "stderr",
     "output_type": "stream",
     "text": [
      "      36/50      2.34G     0.9529     0.6594     0.9595         47        416: 100%|██████████| 271/271 [00:49<00:00,  5.44it/s]\n",
      "                 Class     Images  Instances      Box(P          R      mAP50  mAP50-95): 100%|██████████| 15/15 [00:02<00:00,  6.62it/s]"
     ]
    },
    {
     "name": "stdout",
     "output_type": "stream",
     "text": [
      "                   all        300       2568      0.612      0.486      0.516      0.288\n"
     ]
    },
    {
     "name": "stderr",
     "output_type": "stream",
     "text": [
      "\n"
     ]
    },
    {
     "name": "stdout",
     "output_type": "stream",
     "text": [
      "\n",
      "      Epoch    GPU_mem   box_loss   cls_loss   dfl_loss  Instances       Size\n"
     ]
    },
    {
     "name": "stderr",
     "output_type": "stream",
     "text": [
      "      37/50      2.35G     0.9463     0.6485     0.9545         24        416: 100%|██████████| 271/271 [00:49<00:00,  5.43it/s]\n",
      "                 Class     Images  Instances      Box(P          R      mAP50  mAP50-95): 100%|██████████| 15/15 [00:02<00:00,  6.71it/s]"
     ]
    },
    {
     "name": "stdout",
     "output_type": "stream",
     "text": [
      "                   all        300       2568      0.576      0.494      0.502      0.281\n"
     ]
    },
    {
     "name": "stderr",
     "output_type": "stream",
     "text": [
      "\n"
     ]
    },
    {
     "name": "stdout",
     "output_type": "stream",
     "text": [
      "\n",
      "      Epoch    GPU_mem   box_loss   cls_loss   dfl_loss  Instances       Size\n"
     ]
    },
    {
     "name": "stderr",
     "output_type": "stream",
     "text": [
      "      38/50      2.36G     0.9396     0.6383     0.9536         33        416: 100%|██████████| 271/271 [00:50<00:00,  5.37it/s]\n",
      "                 Class     Images  Instances      Box(P          R      mAP50  mAP50-95): 100%|██████████| 15/15 [00:02<00:00,  6.50it/s]"
     ]
    },
    {
     "name": "stdout",
     "output_type": "stream",
     "text": [
      "                   all        300       2568      0.644      0.457      0.505      0.284\n"
     ]
    },
    {
     "name": "stderr",
     "output_type": "stream",
     "text": [
      "\n"
     ]
    },
    {
     "name": "stdout",
     "output_type": "stream",
     "text": [
      "\n",
      "      Epoch    GPU_mem   box_loss   cls_loss   dfl_loss  Instances       Size\n"
     ]
    },
    {
     "name": "stderr",
     "output_type": "stream",
     "text": [
      "      39/50      2.37G      0.928     0.6307     0.9509         69        416: 100%|██████████| 271/271 [00:50<00:00,  5.41it/s]\n",
      "                 Class     Images  Instances      Box(P          R      mAP50  mAP50-95): 100%|██████████| 15/15 [00:02<00:00,  6.75it/s]"
     ]
    },
    {
     "name": "stdout",
     "output_type": "stream",
     "text": [
      "                   all        300       2568      0.633      0.476      0.507      0.287\n"
     ]
    },
    {
     "name": "stderr",
     "output_type": "stream",
     "text": [
      "\n"
     ]
    },
    {
     "name": "stdout",
     "output_type": "stream",
     "text": [
      "\n",
      "      Epoch    GPU_mem   box_loss   cls_loss   dfl_loss  Instances       Size\n"
     ]
    },
    {
     "name": "stderr",
     "output_type": "stream",
     "text": [
      "      40/50      2.43G     0.9355     0.6285     0.9464         61        416: 100%|██████████| 271/271 [00:50<00:00,  5.41it/s]\n",
      "                 Class     Images  Instances      Box(P          R      mAP50  mAP50-95): 100%|██████████| 15/15 [00:02<00:00,  6.53it/s]\n"
     ]
    },
    {
     "name": "stdout",
     "output_type": "stream",
     "text": [
      "                   all        300       2568      0.658       0.47       0.51      0.294\n",
      "Closing dataloader mosaic\n",
      "\n",
      "      Epoch    GPU_mem   box_loss   cls_loss   dfl_loss  Instances       Size\n"
     ]
    },
    {
     "name": "stderr",
     "output_type": "stream",
     "text": [
      "      41/50      2.35G      0.913     0.5727     0.9302         23        416: 100%|██████████| 271/271 [00:48<00:00,  5.57it/s]\n",
      "                 Class     Images  Instances      Box(P          R      mAP50  mAP50-95): 100%|██████████| 15/15 [00:02<00:00,  6.71it/s]"
     ]
    },
    {
     "name": "stdout",
     "output_type": "stream",
     "text": [
      "                   all        300       2568      0.642      0.457      0.507      0.291\n"
     ]
    },
    {
     "name": "stderr",
     "output_type": "stream",
     "text": [
      "\n"
     ]
    },
    {
     "name": "stdout",
     "output_type": "stream",
     "text": [
      "\n",
      "      Epoch    GPU_mem   box_loss   cls_loss   dfl_loss  Instances       Size\n"
     ]
    },
    {
     "name": "stderr",
     "output_type": "stream",
     "text": [
      "      42/50      2.33G     0.8972     0.5578     0.9232         24        416: 100%|██████████| 271/271 [00:49<00:00,  5.51it/s]\n",
      "                 Class     Images  Instances      Box(P          R      mAP50  mAP50-95): 100%|██████████| 15/15 [00:02<00:00,  6.65it/s]"
     ]
    },
    {
     "name": "stdout",
     "output_type": "stream",
     "text": [
      "                   all        300       2568      0.554      0.437      0.501      0.282\n"
     ]
    },
    {
     "name": "stderr",
     "output_type": "stream",
     "text": [
      "\n"
     ]
    },
    {
     "name": "stdout",
     "output_type": "stream",
     "text": [
      "\n",
      "      Epoch    GPU_mem   box_loss   cls_loss   dfl_loss  Instances       Size\n"
     ]
    },
    {
     "name": "stderr",
     "output_type": "stream",
     "text": [
      "      43/50      2.33G      0.884     0.5422     0.9174         78        416: 100%|██████████| 271/271 [00:49<00:00,  5.48it/s]\n",
      "                 Class     Images  Instances      Box(P          R      mAP50  mAP50-95): 100%|██████████| 15/15 [00:02<00:00,  6.66it/s]"
     ]
    },
    {
     "name": "stdout",
     "output_type": "stream",
     "text": [
      "                   all        300       2568      0.634      0.471      0.501      0.292\n"
     ]
    },
    {
     "name": "stderr",
     "output_type": "stream",
     "text": [
      "\n"
     ]
    },
    {
     "name": "stdout",
     "output_type": "stream",
     "text": [
      "\n",
      "      Epoch    GPU_mem   box_loss   cls_loss   dfl_loss  Instances       Size\n"
     ]
    },
    {
     "name": "stderr",
     "output_type": "stream",
     "text": [
      "      44/50      2.34G     0.8791     0.5347     0.9145         30        416: 100%|██████████| 271/271 [00:49<00:00,  5.47it/s]\n",
      "                 Class     Images  Instances      Box(P          R      mAP50  mAP50-95): 100%|██████████| 15/15 [00:02<00:00,  6.81it/s]"
     ]
    },
    {
     "name": "stdout",
     "output_type": "stream",
     "text": [
      "                   all        300       2568      0.609      0.486      0.505       0.29\n"
     ]
    },
    {
     "name": "stderr",
     "output_type": "stream",
     "text": [
      "\n"
     ]
    },
    {
     "name": "stdout",
     "output_type": "stream",
     "text": [
      "\n",
      "      Epoch    GPU_mem   box_loss   cls_loss   dfl_loss  Instances       Size\n"
     ]
    },
    {
     "name": "stderr",
     "output_type": "stream",
     "text": [
      "      45/50       2.4G     0.8662     0.5205     0.9132         26        416: 100%|██████████| 271/271 [00:49<00:00,  5.48it/s]\n",
      "                 Class     Images  Instances      Box(P          R      mAP50  mAP50-95): 100%|██████████| 15/15 [00:02<00:00,  6.56it/s]"
     ]
    },
    {
     "name": "stdout",
     "output_type": "stream",
     "text": [
      "                   all        300       2568      0.595       0.51       0.51      0.296\n"
     ]
    },
    {
     "name": "stderr",
     "output_type": "stream",
     "text": [
      "\n"
     ]
    },
    {
     "name": "stdout",
     "output_type": "stream",
     "text": [
      "\n",
      "      Epoch    GPU_mem   box_loss   cls_loss   dfl_loss  Instances       Size\n"
     ]
    },
    {
     "name": "stderr",
     "output_type": "stream",
     "text": [
      "      46/50      2.34G     0.8576      0.515     0.9068         26        416: 100%|██████████| 271/271 [00:49<00:00,  5.48it/s]\n",
      "                 Class     Images  Instances      Box(P          R      mAP50  mAP50-95): 100%|██████████| 15/15 [00:02<00:00,  6.78it/s]"
     ]
    },
    {
     "name": "stdout",
     "output_type": "stream",
     "text": [
      "                   all        300       2568      0.585      0.507      0.507      0.293\n"
     ]
    },
    {
     "name": "stderr",
     "output_type": "stream",
     "text": [
      "\n"
     ]
    },
    {
     "name": "stdout",
     "output_type": "stream",
     "text": [
      "\n",
      "      Epoch    GPU_mem   box_loss   cls_loss   dfl_loss  Instances       Size\n"
     ]
    },
    {
     "name": "stderr",
     "output_type": "stream",
     "text": [
      "      47/50      2.34G     0.8416     0.5051     0.9063         14        416: 100%|██████████| 271/271 [00:49<00:00,  5.48it/s]\n",
      "                 Class     Images  Instances      Box(P          R      mAP50  mAP50-95): 100%|██████████| 15/15 [00:02<00:00,  6.57it/s]"
     ]
    },
    {
     "name": "stdout",
     "output_type": "stream",
     "text": [
      "                   all        300       2568      0.615      0.499      0.515      0.299\n"
     ]
    },
    {
     "name": "stderr",
     "output_type": "stream",
     "text": [
      "\n"
     ]
    },
    {
     "name": "stdout",
     "output_type": "stream",
     "text": [
      "\n",
      "      Epoch    GPU_mem   box_loss   cls_loss   dfl_loss  Instances       Size\n"
     ]
    },
    {
     "name": "stderr",
     "output_type": "stream",
     "text": [
      "      48/50      2.34G     0.8412     0.4999     0.9013         35        416: 100%|██████████| 271/271 [00:49<00:00,  5.48it/s]\n",
      "                 Class     Images  Instances      Box(P          R      mAP50  mAP50-95): 100%|██████████| 15/15 [00:02<00:00,  6.85it/s]"
     ]
    },
    {
     "name": "stdout",
     "output_type": "stream",
     "text": [
      "                   all        300       2568      0.605      0.475      0.508      0.291\n"
     ]
    },
    {
     "name": "stderr",
     "output_type": "stream",
     "text": [
      "\n"
     ]
    },
    {
     "name": "stdout",
     "output_type": "stream",
     "text": [
      "\n",
      "      Epoch    GPU_mem   box_loss   cls_loss   dfl_loss  Instances       Size\n"
     ]
    },
    {
     "name": "stderr",
     "output_type": "stream",
     "text": [
      "      49/50      2.34G     0.8409     0.4978     0.9027         25        416: 100%|██████████| 271/271 [00:49<00:00,  5.46it/s]\n",
      "                 Class     Images  Instances      Box(P          R      mAP50  mAP50-95): 100%|██████████| 15/15 [00:02<00:00,  6.63it/s]"
     ]
    },
    {
     "name": "stdout",
     "output_type": "stream",
     "text": [
      "                   all        300       2568      0.599      0.485      0.503      0.288\n"
     ]
    },
    {
     "name": "stderr",
     "output_type": "stream",
     "text": [
      "\n"
     ]
    },
    {
     "name": "stdout",
     "output_type": "stream",
     "text": [
      "\n",
      "      Epoch    GPU_mem   box_loss   cls_loss   dfl_loss  Instances       Size\n"
     ]
    },
    {
     "name": "stderr",
     "output_type": "stream",
     "text": [
      "      50/50      2.41G     0.8279     0.4881     0.8958         24        416: 100%|██████████| 271/271 [00:49<00:00,  5.46it/s]\n",
      "                 Class     Images  Instances      Box(P          R      mAP50  mAP50-95): 100%|██████████| 15/15 [00:02<00:00,  6.73it/s]"
     ]
    },
    {
     "name": "stdout",
     "output_type": "stream",
     "text": [
      "                   all        300       2568      0.606      0.477      0.501      0.285\n"
     ]
    },
    {
     "name": "stderr",
     "output_type": "stream",
     "text": [
      "\n"
     ]
    },
    {
     "name": "stdout",
     "output_type": "stream",
     "text": [
      "\n",
      "50 epochs completed in 0.753 hours.\n",
      "Optimizer stripped from runs\\detect\\train\\weights\\last.pt, 52.0MB\n",
      "Optimizer stripped from runs\\detect\\train\\weights\\best.pt, 52.0MB\n",
      "\n",
      "Validating runs\\detect\\train\\weights\\best.pt...\n",
      "Ultralytics YOLOv8.1.0 🚀 Python-3.11.5 torch-2.1.2+cu118 CUDA:0 (NVIDIA GeForce RTX 2060, 6144MiB)\n",
      "Model summary (fused): 218 layers, 25851919 parameters, 0 gradients, 78.8 GFLOPs\n"
     ]
    },
    {
     "name": "stderr",
     "output_type": "stream",
     "text": [
      "                 Class     Images  Instances      Box(P          R      mAP50  mAP50-95): 100%|██████████| 15/15 [00:04<00:00,  3.37it/s]\n"
     ]
    },
    {
     "name": "stdout",
     "output_type": "stream",
     "text": [
      "                   all        300       2568      0.692      0.474      0.516      0.303\n",
      "               bicycle        300         32      0.702      0.368      0.456      0.208\n",
      "                   bus        300        425      0.841      0.494      0.662      0.436\n",
      "                   car        300        842      0.834      0.702      0.791       0.53\n",
      "               minibus        300          2      0.504        0.5      0.496      0.397\n",
      "               minivan        300        110      0.512      0.427      0.461      0.333\n",
      "             motorbike        300        335      0.775      0.494      0.557      0.215\n",
      "                pickup        300        142      0.674      0.303        0.4      0.251\n",
      "             policecar        300          1          1          0          0          0\n",
      "              rickshaw        300        192      0.748      0.703       0.73      0.451\n",
      "               scooter        300          1      0.608          1      0.995      0.298\n",
      "                   suv        300         60      0.227      0.309      0.215      0.153\n",
      "                  taxi        300         19       0.84      0.737      0.796      0.499\n",
      "  three wheelers -CNG-        300        252      0.876      0.645      0.746      0.498\n",
      "                 truck        300         84      0.568      0.612      0.601      0.392\n",
      "                   van        300         62      0.358       0.29      0.265      0.156\n",
      "           wheelbarrow        300          9          1          0     0.0845     0.0229\n",
      "Speed: 0.1ms preprocess, 4.6ms inference, 0.0ms loss, 4.5ms postprocess per image\n",
      "Results saved to \u001B[1mruns\\detect\\train\u001B[0m\n"
     ]
    }
   ],
   "source": [
    "model = YOLO(\"yolov8m.pt\")\n",
    "result = model.train(data=\"trafic_data/data.yaml\", epochs=50, imgsz=400, model=\"yolov8m.pt\", batch=10)"
   ],
   "metadata": {
    "collapsed": false,
    "ExecuteTime": {
     "end_time": "2024-01-11T23:41:39.815421700Z",
     "start_time": "2024-01-11T22:54:58.481759900Z"
    }
   },
   "id": "5f398b74f93c2e64"
  },
  {
   "cell_type": "code",
   "execution_count": 2,
   "outputs": [],
   "source": [
    "def process_video(video_path, model_trained):\n",
    "    cap = cv2.VideoCapture(video_path)\n",
    "    while True:\n",
    "        ret, frame = cap.read()\n",
    "        if not ret:\n",
    "            break\n",
    "        results = model_trained.track(frame, iou = 0.4, conf = 0.5, imgsz = 400, verbose = False, tracker = 'botsort.yaml')\n",
    "        if results[0].boxes is not None:\n",
    "            boxes = results[0].boxes.xyxy.cpu().numpy().astype(int)\n",
    "            classes = results[0].boxes.cls.cpu().numpy().astype(int)\n",
    "            for box, cl in zip(boxes, classes):\n",
    "                x1, y1, x2, y2 = box\n",
    "                random.seed(int(cl)+20)\n",
    "                color = (random.randint(0, 255), random.randint(0, 255), random.randint(0, 255))\n",
    "                cv2.rectangle(frame, (int(x1), int(y1)), (int(x2), int(y2)), color, 2)\n",
    "                cv2.putText(frame, str(model_trained.model.names[int(cl)]), (int(x1), int(y1)), cv2.FONT_HERSHEY_SIMPLEX, 0.5, (255, 255, 255), 2)\n",
    "        frame = cv2.resize(frame, (0, 0), fx=0.75, fy=0.75)\n",
    "        cv2.imshow('frame', frame)\n",
    "        if cv2.waitKey(1) & 0xFF == ord('q'):\n",
    "            break\n",
    "    cap.release()\n",
    "    cv2.destroyAllWindows()\n",
    "        \n",
    "    "
   ],
   "metadata": {
    "collapsed": false,
    "ExecuteTime": {
     "end_time": "2024-01-18T11:35:09.174125700Z",
     "start_time": "2024-01-18T11:35:09.168001200Z"
    }
   },
   "id": "b1b509e82f859c08"
  },
  {
   "cell_type": "code",
   "execution_count": 3,
   "outputs": [
    {
     "name": "stdout",
     "output_type": "stream",
     "text": [
      "Model summary (fused): 218 layers, 25851919 parameters, 0 gradients, 78.8 GFLOPs\n",
      "WARNING ⚠️ imgsz=[400] must be multiple of max stride 32, updating to [416]\n",
      "WARNING ⚠️ imgsz=[400] must be multiple of max stride 32, updating to [416]\n",
      "WARNING ⚠️ imgsz=[400] must be multiple of max stride 32, updating to [416]\n",
      "WARNING ⚠️ imgsz=[400] must be multiple of max stride 32, updating to [416]\n",
      "WARNING ⚠️ imgsz=[400] must be multiple of max stride 32, updating to [416]\n",
      "WARNING ⚠️ imgsz=[400] must be multiple of max stride 32, updating to [416]\n",
      "WARNING ⚠️ imgsz=[400] must be multiple of max stride 32, updating to [416]\n",
      "WARNING ⚠️ imgsz=[400] must be multiple of max stride 32, updating to [416]\n",
      "WARNING ⚠️ imgsz=[400] must be multiple of max stride 32, updating to [416]\n",
      "WARNING ⚠️ imgsz=[400] must be multiple of max stride 32, updating to [416]\n",
      "WARNING ⚠️ imgsz=[400] must be multiple of max stride 32, updating to [416]\n",
      "WARNING ⚠️ imgsz=[400] must be multiple of max stride 32, updating to [416]\n",
      "WARNING ⚠️ imgsz=[400] must be multiple of max stride 32, updating to [416]\n",
      "WARNING ⚠️ imgsz=[400] must be multiple of max stride 32, updating to [416]\n",
      "WARNING ⚠️ imgsz=[400] must be multiple of max stride 32, updating to [416]\n",
      "WARNING ⚠️ imgsz=[400] must be multiple of max stride 32, updating to [416]\n",
      "WARNING ⚠️ imgsz=[400] must be multiple of max stride 32, updating to [416]\n",
      "WARNING ⚠️ imgsz=[400] must be multiple of max stride 32, updating to [416]\n",
      "WARNING ⚠️ imgsz=[400] must be multiple of max stride 32, updating to [416]\n",
      "WARNING ⚠️ imgsz=[400] must be multiple of max stride 32, updating to [416]\n",
      "WARNING ⚠️ imgsz=[400] must be multiple of max stride 32, updating to [416]\n",
      "WARNING ⚠️ imgsz=[400] must be multiple of max stride 32, updating to [416]\n",
      "WARNING ⚠️ imgsz=[400] must be multiple of max stride 32, updating to [416]\n",
      "WARNING ⚠️ imgsz=[400] must be multiple of max stride 32, updating to [416]\n",
      "WARNING ⚠️ imgsz=[400] must be multiple of max stride 32, updating to [416]\n",
      "WARNING ⚠️ imgsz=[400] must be multiple of max stride 32, updating to [416]\n",
      "WARNING ⚠️ imgsz=[400] must be multiple of max stride 32, updating to [416]\n",
      "WARNING ⚠️ imgsz=[400] must be multiple of max stride 32, updating to [416]\n",
      "WARNING ⚠️ imgsz=[400] must be multiple of max stride 32, updating to [416]\n",
      "WARNING ⚠️ imgsz=[400] must be multiple of max stride 32, updating to [416]\n",
      "WARNING ⚠️ imgsz=[400] must be multiple of max stride 32, updating to [416]\n",
      "WARNING ⚠️ imgsz=[400] must be multiple of max stride 32, updating to [416]\n",
      "WARNING ⚠️ imgsz=[400] must be multiple of max stride 32, updating to [416]\n",
      "WARNING ⚠️ imgsz=[400] must be multiple of max stride 32, updating to [416]\n",
      "WARNING ⚠️ imgsz=[400] must be multiple of max stride 32, updating to [416]\n",
      "WARNING ⚠️ imgsz=[400] must be multiple of max stride 32, updating to [416]\n",
      "WARNING ⚠️ imgsz=[400] must be multiple of max stride 32, updating to [416]\n",
      "WARNING ⚠️ imgsz=[400] must be multiple of max stride 32, updating to [416]\n",
      "WARNING ⚠️ imgsz=[400] must be multiple of max stride 32, updating to [416]\n",
      "WARNING ⚠️ imgsz=[400] must be multiple of max stride 32, updating to [416]\n",
      "WARNING ⚠️ imgsz=[400] must be multiple of max stride 32, updating to [416]\n",
      "WARNING ⚠️ imgsz=[400] must be multiple of max stride 32, updating to [416]\n",
      "WARNING ⚠️ imgsz=[400] must be multiple of max stride 32, updating to [416]\n",
      "WARNING ⚠️ imgsz=[400] must be multiple of max stride 32, updating to [416]\n",
      "WARNING ⚠️ imgsz=[400] must be multiple of max stride 32, updating to [416]\n",
      "WARNING ⚠️ imgsz=[400] must be multiple of max stride 32, updating to [416]\n",
      "WARNING ⚠️ imgsz=[400] must be multiple of max stride 32, updating to [416]\n",
      "WARNING ⚠️ imgsz=[400] must be multiple of max stride 32, updating to [416]\n",
      "WARNING ⚠️ imgsz=[400] must be multiple of max stride 32, updating to [416]\n",
      "WARNING ⚠️ imgsz=[400] must be multiple of max stride 32, updating to [416]\n",
      "WARNING ⚠️ imgsz=[400] must be multiple of max stride 32, updating to [416]\n",
      "WARNING ⚠️ imgsz=[400] must be multiple of max stride 32, updating to [416]\n",
      "WARNING ⚠️ imgsz=[400] must be multiple of max stride 32, updating to [416]\n",
      "WARNING ⚠️ imgsz=[400] must be multiple of max stride 32, updating to [416]\n",
      "WARNING ⚠️ imgsz=[400] must be multiple of max stride 32, updating to [416]\n",
      "WARNING ⚠️ imgsz=[400] must be multiple of max stride 32, updating to [416]\n",
      "WARNING ⚠️ imgsz=[400] must be multiple of max stride 32, updating to [416]\n",
      "WARNING ⚠️ imgsz=[400] must be multiple of max stride 32, updating to [416]\n",
      "WARNING ⚠️ imgsz=[400] must be multiple of max stride 32, updating to [416]\n",
      "WARNING ⚠️ imgsz=[400] must be multiple of max stride 32, updating to [416]\n",
      "WARNING ⚠️ imgsz=[400] must be multiple of max stride 32, updating to [416]\n",
      "WARNING ⚠️ imgsz=[400] must be multiple of max stride 32, updating to [416]\n",
      "WARNING ⚠️ imgsz=[400] must be multiple of max stride 32, updating to [416]\n",
      "WARNING ⚠️ imgsz=[400] must be multiple of max stride 32, updating to [416]\n",
      "WARNING ⚠️ imgsz=[400] must be multiple of max stride 32, updating to [416]\n",
      "WARNING ⚠️ imgsz=[400] must be multiple of max stride 32, updating to [416]\n",
      "WARNING ⚠️ imgsz=[400] must be multiple of max stride 32, updating to [416]\n",
      "WARNING ⚠️ imgsz=[400] must be multiple of max stride 32, updating to [416]\n",
      "WARNING ⚠️ imgsz=[400] must be multiple of max stride 32, updating to [416]\n",
      "WARNING ⚠️ imgsz=[400] must be multiple of max stride 32, updating to [416]\n",
      "WARNING ⚠️ imgsz=[400] must be multiple of max stride 32, updating to [416]\n",
      "WARNING ⚠️ imgsz=[400] must be multiple of max stride 32, updating to [416]\n",
      "WARNING ⚠️ imgsz=[400] must be multiple of max stride 32, updating to [416]\n",
      "WARNING ⚠️ imgsz=[400] must be multiple of max stride 32, updating to [416]\n",
      "WARNING ⚠️ imgsz=[400] must be multiple of max stride 32, updating to [416]\n",
      "WARNING ⚠️ imgsz=[400] must be multiple of max stride 32, updating to [416]\n",
      "WARNING ⚠️ imgsz=[400] must be multiple of max stride 32, updating to [416]\n",
      "WARNING ⚠️ imgsz=[400] must be multiple of max stride 32, updating to [416]\n",
      "WARNING ⚠️ imgsz=[400] must be multiple of max stride 32, updating to [416]\n",
      "WARNING ⚠️ imgsz=[400] must be multiple of max stride 32, updating to [416]\n",
      "WARNING ⚠️ imgsz=[400] must be multiple of max stride 32, updating to [416]\n",
      "WARNING ⚠️ imgsz=[400] must be multiple of max stride 32, updating to [416]\n",
      "WARNING ⚠️ imgsz=[400] must be multiple of max stride 32, updating to [416]\n",
      "WARNING ⚠️ imgsz=[400] must be multiple of max stride 32, updating to [416]\n",
      "WARNING ⚠️ imgsz=[400] must be multiple of max stride 32, updating to [416]\n",
      "WARNING ⚠️ imgsz=[400] must be multiple of max stride 32, updating to [416]\n",
      "WARNING ⚠️ imgsz=[400] must be multiple of max stride 32, updating to [416]\n",
      "WARNING ⚠️ imgsz=[400] must be multiple of max stride 32, updating to [416]\n",
      "WARNING ⚠️ imgsz=[400] must be multiple of max stride 32, updating to [416]\n",
      "WARNING ⚠️ imgsz=[400] must be multiple of max stride 32, updating to [416]\n",
      "WARNING ⚠️ imgsz=[400] must be multiple of max stride 32, updating to [416]\n",
      "WARNING ⚠️ imgsz=[400] must be multiple of max stride 32, updating to [416]\n",
      "WARNING ⚠️ imgsz=[400] must be multiple of max stride 32, updating to [416]\n",
      "WARNING ⚠️ imgsz=[400] must be multiple of max stride 32, updating to [416]\n",
      "WARNING ⚠️ imgsz=[400] must be multiple of max stride 32, updating to [416]\n",
      "WARNING ⚠️ imgsz=[400] must be multiple of max stride 32, updating to [416]\n",
      "WARNING ⚠️ imgsz=[400] must be multiple of max stride 32, updating to [416]\n",
      "WARNING ⚠️ imgsz=[400] must be multiple of max stride 32, updating to [416]\n",
      "WARNING ⚠️ imgsz=[400] must be multiple of max stride 32, updating to [416]\n",
      "WARNING ⚠️ imgsz=[400] must be multiple of max stride 32, updating to [416]\n",
      "WARNING ⚠️ imgsz=[400] must be multiple of max stride 32, updating to [416]\n",
      "WARNING ⚠️ imgsz=[400] must be multiple of max stride 32, updating to [416]\n",
      "WARNING ⚠️ imgsz=[400] must be multiple of max stride 32, updating to [416]\n",
      "WARNING ⚠️ imgsz=[400] must be multiple of max stride 32, updating to [416]\n",
      "WARNING ⚠️ imgsz=[400] must be multiple of max stride 32, updating to [416]\n",
      "WARNING ⚠️ imgsz=[400] must be multiple of max stride 32, updating to [416]\n",
      "WARNING ⚠️ imgsz=[400] must be multiple of max stride 32, updating to [416]\n",
      "WARNING ⚠️ imgsz=[400] must be multiple of max stride 32, updating to [416]\n",
      "WARNING ⚠️ imgsz=[400] must be multiple of max stride 32, updating to [416]\n",
      "WARNING ⚠️ imgsz=[400] must be multiple of max stride 32, updating to [416]\n",
      "WARNING ⚠️ imgsz=[400] must be multiple of max stride 32, updating to [416]\n",
      "WARNING ⚠️ imgsz=[400] must be multiple of max stride 32, updating to [416]\n",
      "WARNING ⚠️ imgsz=[400] must be multiple of max stride 32, updating to [416]\n",
      "WARNING ⚠️ imgsz=[400] must be multiple of max stride 32, updating to [416]\n",
      "WARNING ⚠️ imgsz=[400] must be multiple of max stride 32, updating to [416]\n",
      "WARNING ⚠️ imgsz=[400] must be multiple of max stride 32, updating to [416]\n",
      "WARNING ⚠️ imgsz=[400] must be multiple of max stride 32, updating to [416]\n",
      "WARNING ⚠️ imgsz=[400] must be multiple of max stride 32, updating to [416]\n",
      "WARNING ⚠️ imgsz=[400] must be multiple of max stride 32, updating to [416]\n",
      "WARNING ⚠️ imgsz=[400] must be multiple of max stride 32, updating to [416]\n",
      "WARNING ⚠️ imgsz=[400] must be multiple of max stride 32, updating to [416]\n",
      "WARNING ⚠️ imgsz=[400] must be multiple of max stride 32, updating to [416]\n",
      "WARNING ⚠️ imgsz=[400] must be multiple of max stride 32, updating to [416]\n",
      "WARNING ⚠️ imgsz=[400] must be multiple of max stride 32, updating to [416]\n",
      "WARNING ⚠️ imgsz=[400] must be multiple of max stride 32, updating to [416]\n",
      "WARNING ⚠️ imgsz=[400] must be multiple of max stride 32, updating to [416]\n",
      "WARNING ⚠️ imgsz=[400] must be multiple of max stride 32, updating to [416]\n",
      "WARNING ⚠️ imgsz=[400] must be multiple of max stride 32, updating to [416]\n",
      "WARNING ⚠️ imgsz=[400] must be multiple of max stride 32, updating to [416]\n",
      "WARNING ⚠️ imgsz=[400] must be multiple of max stride 32, updating to [416]\n",
      "WARNING ⚠️ imgsz=[400] must be multiple of max stride 32, updating to [416]\n",
      "WARNING ⚠️ imgsz=[400] must be multiple of max stride 32, updating to [416]\n",
      "WARNING ⚠️ imgsz=[400] must be multiple of max stride 32, updating to [416]\n",
      "WARNING ⚠️ imgsz=[400] must be multiple of max stride 32, updating to [416]\n",
      "WARNING ⚠️ imgsz=[400] must be multiple of max stride 32, updating to [416]\n",
      "WARNING ⚠️ imgsz=[400] must be multiple of max stride 32, updating to [416]\n",
      "WARNING ⚠️ imgsz=[400] must be multiple of max stride 32, updating to [416]\n",
      "WARNING ⚠️ imgsz=[400] must be multiple of max stride 32, updating to [416]\n",
      "WARNING ⚠️ imgsz=[400] must be multiple of max stride 32, updating to [416]\n",
      "WARNING ⚠️ imgsz=[400] must be multiple of max stride 32, updating to [416]\n",
      "WARNING ⚠️ imgsz=[400] must be multiple of max stride 32, updating to [416]\n",
      "WARNING ⚠️ imgsz=[400] must be multiple of max stride 32, updating to [416]\n",
      "WARNING ⚠️ imgsz=[400] must be multiple of max stride 32, updating to [416]\n",
      "WARNING ⚠️ imgsz=[400] must be multiple of max stride 32, updating to [416]\n",
      "WARNING ⚠️ imgsz=[400] must be multiple of max stride 32, updating to [416]\n",
      "WARNING ⚠️ imgsz=[400] must be multiple of max stride 32, updating to [416]\n",
      "WARNING ⚠️ imgsz=[400] must be multiple of max stride 32, updating to [416]\n",
      "WARNING ⚠️ imgsz=[400] must be multiple of max stride 32, updating to [416]\n",
      "WARNING ⚠️ imgsz=[400] must be multiple of max stride 32, updating to [416]\n",
      "WARNING ⚠️ imgsz=[400] must be multiple of max stride 32, updating to [416]\n",
      "WARNING ⚠️ imgsz=[400] must be multiple of max stride 32, updating to [416]\n",
      "WARNING ⚠️ imgsz=[400] must be multiple of max stride 32, updating to [416]\n",
      "WARNING ⚠️ imgsz=[400] must be multiple of max stride 32, updating to [416]\n",
      "WARNING ⚠️ imgsz=[400] must be multiple of max stride 32, updating to [416]\n",
      "WARNING ⚠️ imgsz=[400] must be multiple of max stride 32, updating to [416]\n",
      "WARNING ⚠️ imgsz=[400] must be multiple of max stride 32, updating to [416]\n",
      "WARNING ⚠️ imgsz=[400] must be multiple of max stride 32, updating to [416]\n",
      "WARNING ⚠️ imgsz=[400] must be multiple of max stride 32, updating to [416]\n",
      "WARNING ⚠️ imgsz=[400] must be multiple of max stride 32, updating to [416]\n",
      "WARNING ⚠️ imgsz=[400] must be multiple of max stride 32, updating to [416]\n",
      "WARNING ⚠️ imgsz=[400] must be multiple of max stride 32, updating to [416]\n",
      "WARNING ⚠️ imgsz=[400] must be multiple of max stride 32, updating to [416]\n",
      "WARNING ⚠️ imgsz=[400] must be multiple of max stride 32, updating to [416]\n",
      "WARNING ⚠️ imgsz=[400] must be multiple of max stride 32, updating to [416]\n",
      "WARNING ⚠️ imgsz=[400] must be multiple of max stride 32, updating to [416]\n",
      "WARNING ⚠️ imgsz=[400] must be multiple of max stride 32, updating to [416]\n",
      "WARNING ⚠️ imgsz=[400] must be multiple of max stride 32, updating to [416]\n",
      "WARNING ⚠️ imgsz=[400] must be multiple of max stride 32, updating to [416]\n",
      "WARNING ⚠️ imgsz=[400] must be multiple of max stride 32, updating to [416]\n",
      "WARNING ⚠️ imgsz=[400] must be multiple of max stride 32, updating to [416]\n",
      "WARNING ⚠️ imgsz=[400] must be multiple of max stride 32, updating to [416]\n",
      "WARNING ⚠️ imgsz=[400] must be multiple of max stride 32, updating to [416]\n",
      "WARNING ⚠️ imgsz=[400] must be multiple of max stride 32, updating to [416]\n",
      "WARNING ⚠️ imgsz=[400] must be multiple of max stride 32, updating to [416]\n",
      "WARNING ⚠️ imgsz=[400] must be multiple of max stride 32, updating to [416]\n",
      "WARNING ⚠️ imgsz=[400] must be multiple of max stride 32, updating to [416]\n",
      "WARNING ⚠️ imgsz=[400] must be multiple of max stride 32, updating to [416]\n",
      "WARNING ⚠️ imgsz=[400] must be multiple of max stride 32, updating to [416]\n",
      "WARNING ⚠️ imgsz=[400] must be multiple of max stride 32, updating to [416]\n",
      "WARNING ⚠️ imgsz=[400] must be multiple of max stride 32, updating to [416]\n",
      "WARNING ⚠️ imgsz=[400] must be multiple of max stride 32, updating to [416]\n",
      "WARNING ⚠️ imgsz=[400] must be multiple of max stride 32, updating to [416]\n",
      "WARNING ⚠️ imgsz=[400] must be multiple of max stride 32, updating to [416]\n",
      "WARNING ⚠️ imgsz=[400] must be multiple of max stride 32, updating to [416]\n",
      "WARNING ⚠️ imgsz=[400] must be multiple of max stride 32, updating to [416]\n",
      "WARNING ⚠️ imgsz=[400] must be multiple of max stride 32, updating to [416]\n",
      "WARNING ⚠️ imgsz=[400] must be multiple of max stride 32, updating to [416]\n",
      "WARNING ⚠️ imgsz=[400] must be multiple of max stride 32, updating to [416]\n",
      "WARNING ⚠️ imgsz=[400] must be multiple of max stride 32, updating to [416]\n",
      "WARNING ⚠️ imgsz=[400] must be multiple of max stride 32, updating to [416]\n",
      "WARNING ⚠️ imgsz=[400] must be multiple of max stride 32, updating to [416]\n",
      "WARNING ⚠️ imgsz=[400] must be multiple of max stride 32, updating to [416]\n",
      "WARNING ⚠️ imgsz=[400] must be multiple of max stride 32, updating to [416]\n",
      "WARNING ⚠️ imgsz=[400] must be multiple of max stride 32, updating to [416]\n",
      "WARNING ⚠️ imgsz=[400] must be multiple of max stride 32, updating to [416]\n",
      "WARNING ⚠️ imgsz=[400] must be multiple of max stride 32, updating to [416]\n",
      "WARNING ⚠️ imgsz=[400] must be multiple of max stride 32, updating to [416]\n",
      "WARNING ⚠️ imgsz=[400] must be multiple of max stride 32, updating to [416]\n",
      "WARNING ⚠️ imgsz=[400] must be multiple of max stride 32, updating to [416]\n",
      "WARNING ⚠️ imgsz=[400] must be multiple of max stride 32, updating to [416]\n",
      "WARNING ⚠️ imgsz=[400] must be multiple of max stride 32, updating to [416]\n",
      "WARNING ⚠️ imgsz=[400] must be multiple of max stride 32, updating to [416]\n",
      "WARNING ⚠️ imgsz=[400] must be multiple of max stride 32, updating to [416]\n",
      "WARNING ⚠️ imgsz=[400] must be multiple of max stride 32, updating to [416]\n",
      "WARNING ⚠️ imgsz=[400] must be multiple of max stride 32, updating to [416]\n",
      "WARNING ⚠️ imgsz=[400] must be multiple of max stride 32, updating to [416]\n",
      "WARNING ⚠️ imgsz=[400] must be multiple of max stride 32, updating to [416]\n",
      "WARNING ⚠️ imgsz=[400] must be multiple of max stride 32, updating to [416]\n",
      "WARNING ⚠️ imgsz=[400] must be multiple of max stride 32, updating to [416]\n",
      "WARNING ⚠️ imgsz=[400] must be multiple of max stride 32, updating to [416]\n",
      "WARNING ⚠️ imgsz=[400] must be multiple of max stride 32, updating to [416]\n",
      "WARNING ⚠️ imgsz=[400] must be multiple of max stride 32, updating to [416]\n",
      "WARNING ⚠️ imgsz=[400] must be multiple of max stride 32, updating to [416]\n",
      "WARNING ⚠️ imgsz=[400] must be multiple of max stride 32, updating to [416]\n",
      "WARNING ⚠️ imgsz=[400] must be multiple of max stride 32, updating to [416]\n",
      "WARNING ⚠️ imgsz=[400] must be multiple of max stride 32, updating to [416]\n",
      "WARNING ⚠️ imgsz=[400] must be multiple of max stride 32, updating to [416]\n",
      "WARNING ⚠️ imgsz=[400] must be multiple of max stride 32, updating to [416]\n",
      "WARNING ⚠️ imgsz=[400] must be multiple of max stride 32, updating to [416]\n",
      "WARNING ⚠️ imgsz=[400] must be multiple of max stride 32, updating to [416]\n",
      "WARNING ⚠️ imgsz=[400] must be multiple of max stride 32, updating to [416]\n",
      "WARNING ⚠️ imgsz=[400] must be multiple of max stride 32, updating to [416]\n",
      "WARNING ⚠️ imgsz=[400] must be multiple of max stride 32, updating to [416]\n",
      "WARNING ⚠️ imgsz=[400] must be multiple of max stride 32, updating to [416]\n",
      "WARNING ⚠️ imgsz=[400] must be multiple of max stride 32, updating to [416]\n",
      "WARNING ⚠️ imgsz=[400] must be multiple of max stride 32, updating to [416]\n",
      "WARNING ⚠️ imgsz=[400] must be multiple of max stride 32, updating to [416]\n",
      "WARNING ⚠️ imgsz=[400] must be multiple of max stride 32, updating to [416]\n",
      "WARNING ⚠️ imgsz=[400] must be multiple of max stride 32, updating to [416]\n",
      "WARNING ⚠️ imgsz=[400] must be multiple of max stride 32, updating to [416]\n",
      "WARNING ⚠️ imgsz=[400] must be multiple of max stride 32, updating to [416]\n",
      "WARNING ⚠️ imgsz=[400] must be multiple of max stride 32, updating to [416]\n",
      "WARNING ⚠️ imgsz=[400] must be multiple of max stride 32, updating to [416]\n",
      "WARNING ⚠️ imgsz=[400] must be multiple of max stride 32, updating to [416]\n",
      "WARNING ⚠️ imgsz=[400] must be multiple of max stride 32, updating to [416]\n",
      "WARNING ⚠️ imgsz=[400] must be multiple of max stride 32, updating to [416]\n",
      "WARNING ⚠️ imgsz=[400] must be multiple of max stride 32, updating to [416]\n",
      "WARNING ⚠️ imgsz=[400] must be multiple of max stride 32, updating to [416]\n",
      "WARNING ⚠️ imgsz=[400] must be multiple of max stride 32, updating to [416]\n",
      "WARNING ⚠️ imgsz=[400] must be multiple of max stride 32, updating to [416]\n",
      "WARNING ⚠️ imgsz=[400] must be multiple of max stride 32, updating to [416]\n",
      "WARNING ⚠️ imgsz=[400] must be multiple of max stride 32, updating to [416]\n",
      "WARNING ⚠️ imgsz=[400] must be multiple of max stride 32, updating to [416]\n",
      "WARNING ⚠️ imgsz=[400] must be multiple of max stride 32, updating to [416]\n",
      "WARNING ⚠️ imgsz=[400] must be multiple of max stride 32, updating to [416]\n",
      "WARNING ⚠️ imgsz=[400] must be multiple of max stride 32, updating to [416]\n",
      "WARNING ⚠️ imgsz=[400] must be multiple of max stride 32, updating to [416]\n",
      "WARNING ⚠️ imgsz=[400] must be multiple of max stride 32, updating to [416]\n",
      "WARNING ⚠️ imgsz=[400] must be multiple of max stride 32, updating to [416]\n",
      "WARNING ⚠️ imgsz=[400] must be multiple of max stride 32, updating to [416]\n",
      "WARNING ⚠️ imgsz=[400] must be multiple of max stride 32, updating to [416]\n",
      "WARNING ⚠️ imgsz=[400] must be multiple of max stride 32, updating to [416]\n",
      "WARNING ⚠️ imgsz=[400] must be multiple of max stride 32, updating to [416]\n",
      "WARNING ⚠️ imgsz=[400] must be multiple of max stride 32, updating to [416]\n",
      "WARNING ⚠️ imgsz=[400] must be multiple of max stride 32, updating to [416]\n",
      "WARNING ⚠️ imgsz=[400] must be multiple of max stride 32, updating to [416]\n",
      "WARNING ⚠️ imgsz=[400] must be multiple of max stride 32, updating to [416]\n",
      "WARNING ⚠️ imgsz=[400] must be multiple of max stride 32, updating to [416]\n",
      "WARNING ⚠️ imgsz=[400] must be multiple of max stride 32, updating to [416]\n",
      "WARNING ⚠️ imgsz=[400] must be multiple of max stride 32, updating to [416]\n",
      "WARNING ⚠️ imgsz=[400] must be multiple of max stride 32, updating to [416]\n",
      "WARNING ⚠️ imgsz=[400] must be multiple of max stride 32, updating to [416]\n",
      "WARNING ⚠️ imgsz=[400] must be multiple of max stride 32, updating to [416]\n",
      "WARNING ⚠️ imgsz=[400] must be multiple of max stride 32, updating to [416]\n",
      "WARNING ⚠️ imgsz=[400] must be multiple of max stride 32, updating to [416]\n",
      "WARNING ⚠️ imgsz=[400] must be multiple of max stride 32, updating to [416]\n",
      "WARNING ⚠️ imgsz=[400] must be multiple of max stride 32, updating to [416]\n",
      "WARNING ⚠️ imgsz=[400] must be multiple of max stride 32, updating to [416]\n",
      "WARNING ⚠️ imgsz=[400] must be multiple of max stride 32, updating to [416]\n",
      "WARNING ⚠️ imgsz=[400] must be multiple of max stride 32, updating to [416]\n",
      "WARNING ⚠️ imgsz=[400] must be multiple of max stride 32, updating to [416]\n",
      "WARNING ⚠️ imgsz=[400] must be multiple of max stride 32, updating to [416]\n",
      "WARNING ⚠️ imgsz=[400] must be multiple of max stride 32, updating to [416]\n",
      "WARNING ⚠️ imgsz=[400] must be multiple of max stride 32, updating to [416]\n",
      "WARNING ⚠️ imgsz=[400] must be multiple of max stride 32, updating to [416]\n",
      "WARNING ⚠️ imgsz=[400] must be multiple of max stride 32, updating to [416]\n",
      "WARNING ⚠️ imgsz=[400] must be multiple of max stride 32, updating to [416]\n",
      "WARNING ⚠️ imgsz=[400] must be multiple of max stride 32, updating to [416]\n",
      "WARNING ⚠️ imgsz=[400] must be multiple of max stride 32, updating to [416]\n",
      "WARNING ⚠️ imgsz=[400] must be multiple of max stride 32, updating to [416]\n",
      "WARNING ⚠️ imgsz=[400] must be multiple of max stride 32, updating to [416]\n",
      "WARNING ⚠️ imgsz=[400] must be multiple of max stride 32, updating to [416]\n",
      "WARNING ⚠️ imgsz=[400] must be multiple of max stride 32, updating to [416]\n",
      "WARNING ⚠️ imgsz=[400] must be multiple of max stride 32, updating to [416]\n",
      "WARNING ⚠️ imgsz=[400] must be multiple of max stride 32, updating to [416]\n",
      "WARNING ⚠️ imgsz=[400] must be multiple of max stride 32, updating to [416]\n",
      "WARNING ⚠️ imgsz=[400] must be multiple of max stride 32, updating to [416]\n",
      "WARNING ⚠️ imgsz=[400] must be multiple of max stride 32, updating to [416]\n",
      "WARNING ⚠️ imgsz=[400] must be multiple of max stride 32, updating to [416]\n",
      "WARNING ⚠️ imgsz=[400] must be multiple of max stride 32, updating to [416]\n",
      "WARNING ⚠️ imgsz=[400] must be multiple of max stride 32, updating to [416]\n",
      "WARNING ⚠️ imgsz=[400] must be multiple of max stride 32, updating to [416]\n",
      "WARNING ⚠️ imgsz=[400] must be multiple of max stride 32, updating to [416]\n",
      "WARNING ⚠️ imgsz=[400] must be multiple of max stride 32, updating to [416]\n",
      "WARNING ⚠️ imgsz=[400] must be multiple of max stride 32, updating to [416]\n",
      "WARNING ⚠️ imgsz=[400] must be multiple of max stride 32, updating to [416]\n",
      "WARNING ⚠️ imgsz=[400] must be multiple of max stride 32, updating to [416]\n",
      "WARNING ⚠️ imgsz=[400] must be multiple of max stride 32, updating to [416]\n",
      "WARNING ⚠️ imgsz=[400] must be multiple of max stride 32, updating to [416]\n",
      "WARNING ⚠️ imgsz=[400] must be multiple of max stride 32, updating to [416]\n",
      "WARNING ⚠️ imgsz=[400] must be multiple of max stride 32, updating to [416]\n",
      "WARNING ⚠️ imgsz=[400] must be multiple of max stride 32, updating to [416]\n",
      "WARNING ⚠️ imgsz=[400] must be multiple of max stride 32, updating to [416]\n",
      "WARNING ⚠️ imgsz=[400] must be multiple of max stride 32, updating to [416]\n",
      "WARNING ⚠️ imgsz=[400] must be multiple of max stride 32, updating to [416]\n",
      "WARNING ⚠️ imgsz=[400] must be multiple of max stride 32, updating to [416]\n",
      "WARNING ⚠️ imgsz=[400] must be multiple of max stride 32, updating to [416]\n",
      "WARNING ⚠️ imgsz=[400] must be multiple of max stride 32, updating to [416]\n",
      "WARNING ⚠️ imgsz=[400] must be multiple of max stride 32, updating to [416]\n",
      "WARNING ⚠️ imgsz=[400] must be multiple of max stride 32, updating to [416]\n",
      "WARNING ⚠️ imgsz=[400] must be multiple of max stride 32, updating to [416]\n",
      "WARNING ⚠️ imgsz=[400] must be multiple of max stride 32, updating to [416]\n",
      "WARNING ⚠️ imgsz=[400] must be multiple of max stride 32, updating to [416]\n",
      "WARNING ⚠️ imgsz=[400] must be multiple of max stride 32, updating to [416]\n",
      "WARNING ⚠️ imgsz=[400] must be multiple of max stride 32, updating to [416]\n",
      "WARNING ⚠️ imgsz=[400] must be multiple of max stride 32, updating to [416]\n",
      "WARNING ⚠️ imgsz=[400] must be multiple of max stride 32, updating to [416]\n",
      "WARNING ⚠️ imgsz=[400] must be multiple of max stride 32, updating to [416]\n",
      "WARNING ⚠️ imgsz=[400] must be multiple of max stride 32, updating to [416]\n",
      "WARNING ⚠️ imgsz=[400] must be multiple of max stride 32, updating to [416]\n",
      "WARNING ⚠️ imgsz=[400] must be multiple of max stride 32, updating to [416]\n",
      "WARNING ⚠️ imgsz=[400] must be multiple of max stride 32, updating to [416]\n",
      "WARNING ⚠️ imgsz=[400] must be multiple of max stride 32, updating to [416]\n",
      "WARNING ⚠️ imgsz=[400] must be multiple of max stride 32, updating to [416]\n",
      "WARNING ⚠️ imgsz=[400] must be multiple of max stride 32, updating to [416]\n",
      "WARNING ⚠️ imgsz=[400] must be multiple of max stride 32, updating to [416]\n",
      "WARNING ⚠️ imgsz=[400] must be multiple of max stride 32, updating to [416]\n",
      "WARNING ⚠️ imgsz=[400] must be multiple of max stride 32, updating to [416]\n",
      "WARNING ⚠️ imgsz=[400] must be multiple of max stride 32, updating to [416]\n",
      "WARNING ⚠️ imgsz=[400] must be multiple of max stride 32, updating to [416]\n",
      "WARNING ⚠️ imgsz=[400] must be multiple of max stride 32, updating to [416]\n",
      "WARNING ⚠️ imgsz=[400] must be multiple of max stride 32, updating to [416]\n",
      "WARNING ⚠️ imgsz=[400] must be multiple of max stride 32, updating to [416]\n",
      "WARNING ⚠️ imgsz=[400] must be multiple of max stride 32, updating to [416]\n",
      "WARNING ⚠️ imgsz=[400] must be multiple of max stride 32, updating to [416]\n",
      "WARNING ⚠️ imgsz=[400] must be multiple of max stride 32, updating to [416]\n",
      "WARNING ⚠️ imgsz=[400] must be multiple of max stride 32, updating to [416]\n",
      "WARNING ⚠️ imgsz=[400] must be multiple of max stride 32, updating to [416]\n",
      "WARNING ⚠️ imgsz=[400] must be multiple of max stride 32, updating to [416]\n",
      "WARNING ⚠️ imgsz=[400] must be multiple of max stride 32, updating to [416]\n",
      "WARNING ⚠️ imgsz=[400] must be multiple of max stride 32, updating to [416]\n",
      "WARNING ⚠️ imgsz=[400] must be multiple of max stride 32, updating to [416]\n",
      "WARNING ⚠️ imgsz=[400] must be multiple of max stride 32, updating to [416]\n",
      "WARNING ⚠️ imgsz=[400] must be multiple of max stride 32, updating to [416]\n",
      "WARNING ⚠️ imgsz=[400] must be multiple of max stride 32, updating to [416]\n",
      "WARNING ⚠️ imgsz=[400] must be multiple of max stride 32, updating to [416]\n",
      "WARNING ⚠️ imgsz=[400] must be multiple of max stride 32, updating to [416]\n",
      "WARNING ⚠️ imgsz=[400] must be multiple of max stride 32, updating to [416]\n",
      "WARNING ⚠️ imgsz=[400] must be multiple of max stride 32, updating to [416]\n",
      "WARNING ⚠️ imgsz=[400] must be multiple of max stride 32, updating to [416]\n",
      "WARNING ⚠️ imgsz=[400] must be multiple of max stride 32, updating to [416]\n",
      "WARNING ⚠️ imgsz=[400] must be multiple of max stride 32, updating to [416]\n",
      "WARNING ⚠️ imgsz=[400] must be multiple of max stride 32, updating to [416]\n",
      "WARNING ⚠️ imgsz=[400] must be multiple of max stride 32, updating to [416]\n",
      "WARNING ⚠️ imgsz=[400] must be multiple of max stride 32, updating to [416]\n",
      "WARNING ⚠️ imgsz=[400] must be multiple of max stride 32, updating to [416]\n",
      "WARNING ⚠️ imgsz=[400] must be multiple of max stride 32, updating to [416]\n",
      "WARNING ⚠️ imgsz=[400] must be multiple of max stride 32, updating to [416]\n",
      "WARNING ⚠️ imgsz=[400] must be multiple of max stride 32, updating to [416]\n",
      "WARNING ⚠️ imgsz=[400] must be multiple of max stride 32, updating to [416]\n",
      "WARNING ⚠️ imgsz=[400] must be multiple of max stride 32, updating to [416]\n",
      "WARNING ⚠️ imgsz=[400] must be multiple of max stride 32, updating to [416]\n",
      "WARNING ⚠️ imgsz=[400] must be multiple of max stride 32, updating to [416]\n",
      "WARNING ⚠️ imgsz=[400] must be multiple of max stride 32, updating to [416]\n",
      "WARNING ⚠️ imgsz=[400] must be multiple of max stride 32, updating to [416]\n",
      "WARNING ⚠️ imgsz=[400] must be multiple of max stride 32, updating to [416]\n",
      "WARNING ⚠️ imgsz=[400] must be multiple of max stride 32, updating to [416]\n",
      "WARNING ⚠️ imgsz=[400] must be multiple of max stride 32, updating to [416]\n",
      "WARNING ⚠️ imgsz=[400] must be multiple of max stride 32, updating to [416]\n",
      "WARNING ⚠️ imgsz=[400] must be multiple of max stride 32, updating to [416]\n",
      "WARNING ⚠️ imgsz=[400] must be multiple of max stride 32, updating to [416]\n",
      "WARNING ⚠️ imgsz=[400] must be multiple of max stride 32, updating to [416]\n",
      "WARNING ⚠️ imgsz=[400] must be multiple of max stride 32, updating to [416]\n",
      "WARNING ⚠️ imgsz=[400] must be multiple of max stride 32, updating to [416]\n",
      "WARNING ⚠️ imgsz=[400] must be multiple of max stride 32, updating to [416]\n",
      "WARNING ⚠️ imgsz=[400] must be multiple of max stride 32, updating to [416]\n",
      "WARNING ⚠️ imgsz=[400] must be multiple of max stride 32, updating to [416]\n",
      "WARNING ⚠️ imgsz=[400] must be multiple of max stride 32, updating to [416]\n",
      "WARNING ⚠️ imgsz=[400] must be multiple of max stride 32, updating to [416]\n",
      "WARNING ⚠️ imgsz=[400] must be multiple of max stride 32, updating to [416]\n",
      "WARNING ⚠️ imgsz=[400] must be multiple of max stride 32, updating to [416]\n",
      "WARNING ⚠️ imgsz=[400] must be multiple of max stride 32, updating to [416]\n",
      "WARNING ⚠️ imgsz=[400] must be multiple of max stride 32, updating to [416]\n",
      "WARNING ⚠️ imgsz=[400] must be multiple of max stride 32, updating to [416]\n",
      "WARNING ⚠️ imgsz=[400] must be multiple of max stride 32, updating to [416]\n",
      "WARNING ⚠️ imgsz=[400] must be multiple of max stride 32, updating to [416]\n",
      "WARNING ⚠️ imgsz=[400] must be multiple of max stride 32, updating to [416]\n",
      "WARNING ⚠️ imgsz=[400] must be multiple of max stride 32, updating to [416]\n",
      "WARNING ⚠️ imgsz=[400] must be multiple of max stride 32, updating to [416]\n",
      "WARNING ⚠️ imgsz=[400] must be multiple of max stride 32, updating to [416]\n",
      "WARNING ⚠️ imgsz=[400] must be multiple of max stride 32, updating to [416]\n",
      "WARNING ⚠️ imgsz=[400] must be multiple of max stride 32, updating to [416]\n",
      "WARNING ⚠️ imgsz=[400] must be multiple of max stride 32, updating to [416]\n",
      "WARNING ⚠️ imgsz=[400] must be multiple of max stride 32, updating to [416]\n",
      "WARNING ⚠️ imgsz=[400] must be multiple of max stride 32, updating to [416]\n",
      "WARNING ⚠️ imgsz=[400] must be multiple of max stride 32, updating to [416]\n",
      "WARNING ⚠️ imgsz=[400] must be multiple of max stride 32, updating to [416]\n",
      "WARNING ⚠️ imgsz=[400] must be multiple of max stride 32, updating to [416]\n",
      "WARNING ⚠️ imgsz=[400] must be multiple of max stride 32, updating to [416]\n",
      "WARNING ⚠️ imgsz=[400] must be multiple of max stride 32, updating to [416]\n",
      "WARNING ⚠️ imgsz=[400] must be multiple of max stride 32, updating to [416]\n",
      "WARNING ⚠️ imgsz=[400] must be multiple of max stride 32, updating to [416]\n",
      "WARNING ⚠️ imgsz=[400] must be multiple of max stride 32, updating to [416]\n",
      "WARNING ⚠️ imgsz=[400] must be multiple of max stride 32, updating to [416]\n",
      "WARNING ⚠️ imgsz=[400] must be multiple of max stride 32, updating to [416]\n",
      "WARNING ⚠️ imgsz=[400] must be multiple of max stride 32, updating to [416]\n",
      "WARNING ⚠️ imgsz=[400] must be multiple of max stride 32, updating to [416]\n",
      "WARNING ⚠️ imgsz=[400] must be multiple of max stride 32, updating to [416]\n",
      "WARNING ⚠️ imgsz=[400] must be multiple of max stride 32, updating to [416]\n",
      "WARNING ⚠️ imgsz=[400] must be multiple of max stride 32, updating to [416]\n",
      "WARNING ⚠️ imgsz=[400] must be multiple of max stride 32, updating to [416]\n",
      "WARNING ⚠️ imgsz=[400] must be multiple of max stride 32, updating to [416]\n",
      "WARNING ⚠️ imgsz=[400] must be multiple of max stride 32, updating to [416]\n",
      "WARNING ⚠️ imgsz=[400] must be multiple of max stride 32, updating to [416]\n",
      "WARNING ⚠️ imgsz=[400] must be multiple of max stride 32, updating to [416]\n",
      "WARNING ⚠️ imgsz=[400] must be multiple of max stride 32, updating to [416]\n",
      "WARNING ⚠️ imgsz=[400] must be multiple of max stride 32, updating to [416]\n",
      "WARNING ⚠️ imgsz=[400] must be multiple of max stride 32, updating to [416]\n",
      "WARNING ⚠️ imgsz=[400] must be multiple of max stride 32, updating to [416]\n",
      "WARNING ⚠️ imgsz=[400] must be multiple of max stride 32, updating to [416]\n",
      "WARNING ⚠️ imgsz=[400] must be multiple of max stride 32, updating to [416]\n",
      "WARNING ⚠️ imgsz=[400] must be multiple of max stride 32, updating to [416]\n",
      "WARNING ⚠️ imgsz=[400] must be multiple of max stride 32, updating to [416]\n",
      "WARNING ⚠️ imgsz=[400] must be multiple of max stride 32, updating to [416]\n",
      "WARNING ⚠️ imgsz=[400] must be multiple of max stride 32, updating to [416]\n",
      "WARNING ⚠️ imgsz=[400] must be multiple of max stride 32, updating to [416]\n",
      "WARNING ⚠️ imgsz=[400] must be multiple of max stride 32, updating to [416]\n",
      "WARNING ⚠️ imgsz=[400] must be multiple of max stride 32, updating to [416]\n",
      "WARNING ⚠️ imgsz=[400] must be multiple of max stride 32, updating to [416]\n",
      "WARNING ⚠️ imgsz=[400] must be multiple of max stride 32, updating to [416]\n",
      "WARNING ⚠️ imgsz=[400] must be multiple of max stride 32, updating to [416]\n",
      "WARNING ⚠️ imgsz=[400] must be multiple of max stride 32, updating to [416]\n",
      "WARNING ⚠️ imgsz=[400] must be multiple of max stride 32, updating to [416]\n",
      "WARNING ⚠️ imgsz=[400] must be multiple of max stride 32, updating to [416]\n",
      "WARNING ⚠️ imgsz=[400] must be multiple of max stride 32, updating to [416]\n",
      "WARNING ⚠️ imgsz=[400] must be multiple of max stride 32, updating to [416]\n",
      "WARNING ⚠️ imgsz=[400] must be multiple of max stride 32, updating to [416]\n",
      "WARNING ⚠️ imgsz=[400] must be multiple of max stride 32, updating to [416]\n",
      "WARNING ⚠️ imgsz=[400] must be multiple of max stride 32, updating to [416]\n",
      "WARNING ⚠️ imgsz=[400] must be multiple of max stride 32, updating to [416]\n",
      "WARNING ⚠️ imgsz=[400] must be multiple of max stride 32, updating to [416]\n",
      "WARNING ⚠️ imgsz=[400] must be multiple of max stride 32, updating to [416]\n",
      "WARNING ⚠️ imgsz=[400] must be multiple of max stride 32, updating to [416]\n",
      "WARNING ⚠️ imgsz=[400] must be multiple of max stride 32, updating to [416]\n",
      "WARNING ⚠️ imgsz=[400] must be multiple of max stride 32, updating to [416]\n",
      "WARNING ⚠️ imgsz=[400] must be multiple of max stride 32, updating to [416]\n",
      "WARNING ⚠️ imgsz=[400] must be multiple of max stride 32, updating to [416]\n",
      "WARNING ⚠️ imgsz=[400] must be multiple of max stride 32, updating to [416]\n",
      "WARNING ⚠️ imgsz=[400] must be multiple of max stride 32, updating to [416]\n",
      "WARNING ⚠️ imgsz=[400] must be multiple of max stride 32, updating to [416]\n",
      "WARNING ⚠️ imgsz=[400] must be multiple of max stride 32, updating to [416]\n",
      "WARNING ⚠️ imgsz=[400] must be multiple of max stride 32, updating to [416]\n",
      "WARNING ⚠️ imgsz=[400] must be multiple of max stride 32, updating to [416]\n",
      "WARNING ⚠️ imgsz=[400] must be multiple of max stride 32, updating to [416]\n",
      "WARNING ⚠️ imgsz=[400] must be multiple of max stride 32, updating to [416]\n",
      "WARNING ⚠️ imgsz=[400] must be multiple of max stride 32, updating to [416]\n",
      "WARNING ⚠️ imgsz=[400] must be multiple of max stride 32, updating to [416]\n",
      "WARNING ⚠️ imgsz=[400] must be multiple of max stride 32, updating to [416]\n",
      "WARNING ⚠️ imgsz=[400] must be multiple of max stride 32, updating to [416]\n",
      "WARNING ⚠️ imgsz=[400] must be multiple of max stride 32, updating to [416]\n",
      "WARNING ⚠️ imgsz=[400] must be multiple of max stride 32, updating to [416]\n",
      "WARNING ⚠️ imgsz=[400] must be multiple of max stride 32, updating to [416]\n",
      "WARNING ⚠️ imgsz=[400] must be multiple of max stride 32, updating to [416]\n",
      "WARNING ⚠️ imgsz=[400] must be multiple of max stride 32, updating to [416]\n",
      "WARNING ⚠️ imgsz=[400] must be multiple of max stride 32, updating to [416]\n",
      "WARNING ⚠️ imgsz=[400] must be multiple of max stride 32, updating to [416]\n",
      "WARNING ⚠️ imgsz=[400] must be multiple of max stride 32, updating to [416]\n",
      "WARNING ⚠️ imgsz=[400] must be multiple of max stride 32, updating to [416]\n",
      "WARNING ⚠️ imgsz=[400] must be multiple of max stride 32, updating to [416]\n",
      "WARNING ⚠️ imgsz=[400] must be multiple of max stride 32, updating to [416]\n",
      "WARNING ⚠️ imgsz=[400] must be multiple of max stride 32, updating to [416]\n",
      "WARNING ⚠️ imgsz=[400] must be multiple of max stride 32, updating to [416]\n",
      "WARNING ⚠️ imgsz=[400] must be multiple of max stride 32, updating to [416]\n",
      "WARNING ⚠️ imgsz=[400] must be multiple of max stride 32, updating to [416]\n",
      "WARNING ⚠️ imgsz=[400] must be multiple of max stride 32, updating to [416]\n",
      "WARNING ⚠️ imgsz=[400] must be multiple of max stride 32, updating to [416]\n",
      "WARNING ⚠️ imgsz=[400] must be multiple of max stride 32, updating to [416]\n",
      "WARNING ⚠️ imgsz=[400] must be multiple of max stride 32, updating to [416]\n",
      "WARNING ⚠️ imgsz=[400] must be multiple of max stride 32, updating to [416]\n",
      "WARNING ⚠️ imgsz=[400] must be multiple of max stride 32, updating to [416]\n",
      "WARNING ⚠️ imgsz=[400] must be multiple of max stride 32, updating to [416]\n",
      "WARNING ⚠️ imgsz=[400] must be multiple of max stride 32, updating to [416]\n",
      "WARNING ⚠️ imgsz=[400] must be multiple of max stride 32, updating to [416]\n",
      "WARNING ⚠️ imgsz=[400] must be multiple of max stride 32, updating to [416]\n",
      "WARNING ⚠️ imgsz=[400] must be multiple of max stride 32, updating to [416]\n",
      "WARNING ⚠️ imgsz=[400] must be multiple of max stride 32, updating to [416]\n",
      "WARNING ⚠️ imgsz=[400] must be multiple of max stride 32, updating to [416]\n",
      "WARNING ⚠️ imgsz=[400] must be multiple of max stride 32, updating to [416]\n",
      "WARNING ⚠️ imgsz=[400] must be multiple of max stride 32, updating to [416]\n",
      "WARNING ⚠️ imgsz=[400] must be multiple of max stride 32, updating to [416]\n",
      "WARNING ⚠️ imgsz=[400] must be multiple of max stride 32, updating to [416]\n",
      "WARNING ⚠️ imgsz=[400] must be multiple of max stride 32, updating to [416]\n",
      "WARNING ⚠️ imgsz=[400] must be multiple of max stride 32, updating to [416]\n",
      "WARNING ⚠️ imgsz=[400] must be multiple of max stride 32, updating to [416]\n",
      "WARNING ⚠️ imgsz=[400] must be multiple of max stride 32, updating to [416]\n",
      "WARNING ⚠️ imgsz=[400] must be multiple of max stride 32, updating to [416]\n",
      "WARNING ⚠️ imgsz=[400] must be multiple of max stride 32, updating to [416]\n",
      "WARNING ⚠️ imgsz=[400] must be multiple of max stride 32, updating to [416]\n",
      "WARNING ⚠️ imgsz=[400] must be multiple of max stride 32, updating to [416]\n",
      "WARNING ⚠️ imgsz=[400] must be multiple of max stride 32, updating to [416]\n",
      "WARNING ⚠️ imgsz=[400] must be multiple of max stride 32, updating to [416]\n",
      "WARNING ⚠️ imgsz=[400] must be multiple of max stride 32, updating to [416]\n",
      "WARNING ⚠️ imgsz=[400] must be multiple of max stride 32, updating to [416]\n",
      "WARNING ⚠️ imgsz=[400] must be multiple of max stride 32, updating to [416]\n",
      "WARNING ⚠️ imgsz=[400] must be multiple of max stride 32, updating to [416]\n",
      "WARNING ⚠️ imgsz=[400] must be multiple of max stride 32, updating to [416]\n",
      "WARNING ⚠️ imgsz=[400] must be multiple of max stride 32, updating to [416]\n",
      "WARNING ⚠️ imgsz=[400] must be multiple of max stride 32, updating to [416]\n",
      "WARNING ⚠️ imgsz=[400] must be multiple of max stride 32, updating to [416]\n",
      "WARNING ⚠️ imgsz=[400] must be multiple of max stride 32, updating to [416]\n",
      "WARNING ⚠️ imgsz=[400] must be multiple of max stride 32, updating to [416]\n",
      "WARNING ⚠️ imgsz=[400] must be multiple of max stride 32, updating to [416]\n",
      "WARNING ⚠️ imgsz=[400] must be multiple of max stride 32, updating to [416]\n",
      "WARNING ⚠️ imgsz=[400] must be multiple of max stride 32, updating to [416]\n",
      "WARNING ⚠️ imgsz=[400] must be multiple of max stride 32, updating to [416]\n",
      "WARNING ⚠️ imgsz=[400] must be multiple of max stride 32, updating to [416]\n",
      "WARNING ⚠️ imgsz=[400] must be multiple of max stride 32, updating to [416]\n",
      "WARNING ⚠️ imgsz=[400] must be multiple of max stride 32, updating to [416]\n",
      "WARNING ⚠️ imgsz=[400] must be multiple of max stride 32, updating to [416]\n",
      "WARNING ⚠️ imgsz=[400] must be multiple of max stride 32, updating to [416]\n",
      "WARNING ⚠️ imgsz=[400] must be multiple of max stride 32, updating to [416]\n",
      "WARNING ⚠️ imgsz=[400] must be multiple of max stride 32, updating to [416]\n",
      "WARNING ⚠️ imgsz=[400] must be multiple of max stride 32, updating to [416]\n",
      "WARNING ⚠️ imgsz=[400] must be multiple of max stride 32, updating to [416]\n",
      "WARNING ⚠️ imgsz=[400] must be multiple of max stride 32, updating to [416]\n",
      "WARNING ⚠️ imgsz=[400] must be multiple of max stride 32, updating to [416]\n",
      "WARNING ⚠️ imgsz=[400] must be multiple of max stride 32, updating to [416]\n",
      "WARNING ⚠️ imgsz=[400] must be multiple of max stride 32, updating to [416]\n",
      "WARNING ⚠️ imgsz=[400] must be multiple of max stride 32, updating to [416]\n",
      "WARNING ⚠️ imgsz=[400] must be multiple of max stride 32, updating to [416]\n",
      "WARNING ⚠️ imgsz=[400] must be multiple of max stride 32, updating to [416]\n",
      "WARNING ⚠️ imgsz=[400] must be multiple of max stride 32, updating to [416]\n",
      "WARNING ⚠️ imgsz=[400] must be multiple of max stride 32, updating to [416]\n",
      "WARNING ⚠️ imgsz=[400] must be multiple of max stride 32, updating to [416]\n",
      "WARNING ⚠️ imgsz=[400] must be multiple of max stride 32, updating to [416]\n",
      "WARNING ⚠️ imgsz=[400] must be multiple of max stride 32, updating to [416]\n",
      "WARNING ⚠️ imgsz=[400] must be multiple of max stride 32, updating to [416]\n",
      "WARNING ⚠️ imgsz=[400] must be multiple of max stride 32, updating to [416]\n",
      "WARNING ⚠️ imgsz=[400] must be multiple of max stride 32, updating to [416]\n",
      "WARNING ⚠️ imgsz=[400] must be multiple of max stride 32, updating to [416]\n",
      "WARNING ⚠️ imgsz=[400] must be multiple of max stride 32, updating to [416]\n",
      "WARNING ⚠️ imgsz=[400] must be multiple of max stride 32, updating to [416]\n",
      "WARNING ⚠️ imgsz=[400] must be multiple of max stride 32, updating to [416]\n",
      "WARNING ⚠️ imgsz=[400] must be multiple of max stride 32, updating to [416]\n",
      "WARNING ⚠️ imgsz=[400] must be multiple of max stride 32, updating to [416]\n",
      "WARNING ⚠️ imgsz=[400] must be multiple of max stride 32, updating to [416]\n",
      "WARNING ⚠️ imgsz=[400] must be multiple of max stride 32, updating to [416]\n",
      "WARNING ⚠️ imgsz=[400] must be multiple of max stride 32, updating to [416]\n",
      "WARNING ⚠️ imgsz=[400] must be multiple of max stride 32, updating to [416]\n",
      "WARNING ⚠️ imgsz=[400] must be multiple of max stride 32, updating to [416]\n",
      "WARNING ⚠️ imgsz=[400] must be multiple of max stride 32, updating to [416]\n",
      "WARNING ⚠️ imgsz=[400] must be multiple of max stride 32, updating to [416]\n",
      "WARNING ⚠️ imgsz=[400] must be multiple of max stride 32, updating to [416]\n",
      "WARNING ⚠️ imgsz=[400] must be multiple of max stride 32, updating to [416]\n",
      "WARNING ⚠️ imgsz=[400] must be multiple of max stride 32, updating to [416]\n",
      "WARNING ⚠️ imgsz=[400] must be multiple of max stride 32, updating to [416]\n",
      "WARNING ⚠️ imgsz=[400] must be multiple of max stride 32, updating to [416]\n",
      "WARNING ⚠️ imgsz=[400] must be multiple of max stride 32, updating to [416]\n",
      "WARNING ⚠️ imgsz=[400] must be multiple of max stride 32, updating to [416]\n",
      "WARNING ⚠️ imgsz=[400] must be multiple of max stride 32, updating to [416]\n",
      "WARNING ⚠️ imgsz=[400] must be multiple of max stride 32, updating to [416]\n",
      "WARNING ⚠️ imgsz=[400] must be multiple of max stride 32, updating to [416]\n",
      "WARNING ⚠️ imgsz=[400] must be multiple of max stride 32, updating to [416]\n",
      "WARNING ⚠️ imgsz=[400] must be multiple of max stride 32, updating to [416]\n",
      "WARNING ⚠️ imgsz=[400] must be multiple of max stride 32, updating to [416]\n",
      "WARNING ⚠️ imgsz=[400] must be multiple of max stride 32, updating to [416]\n",
      "WARNING ⚠️ imgsz=[400] must be multiple of max stride 32, updating to [416]\n",
      "WARNING ⚠️ imgsz=[400] must be multiple of max stride 32, updating to [416]\n",
      "WARNING ⚠️ imgsz=[400] must be multiple of max stride 32, updating to [416]\n",
      "WARNING ⚠️ imgsz=[400] must be multiple of max stride 32, updating to [416]\n",
      "WARNING ⚠️ imgsz=[400] must be multiple of max stride 32, updating to [416]\n",
      "WARNING ⚠️ imgsz=[400] must be multiple of max stride 32, updating to [416]\n",
      "WARNING ⚠️ imgsz=[400] must be multiple of max stride 32, updating to [416]\n",
      "WARNING ⚠️ imgsz=[400] must be multiple of max stride 32, updating to [416]\n",
      "WARNING ⚠️ imgsz=[400] must be multiple of max stride 32, updating to [416]\n",
      "WARNING ⚠️ imgsz=[400] must be multiple of max stride 32, updating to [416]\n",
      "WARNING ⚠️ imgsz=[400] must be multiple of max stride 32, updating to [416]\n",
      "WARNING ⚠️ imgsz=[400] must be multiple of max stride 32, updating to [416]\n",
      "WARNING ⚠️ imgsz=[400] must be multiple of max stride 32, updating to [416]\n",
      "WARNING ⚠️ imgsz=[400] must be multiple of max stride 32, updating to [416]\n",
      "WARNING ⚠️ imgsz=[400] must be multiple of max stride 32, updating to [416]\n",
      "WARNING ⚠️ imgsz=[400] must be multiple of max stride 32, updating to [416]\n",
      "WARNING ⚠️ imgsz=[400] must be multiple of max stride 32, updating to [416]\n",
      "WARNING ⚠️ imgsz=[400] must be multiple of max stride 32, updating to [416]\n",
      "WARNING ⚠️ imgsz=[400] must be multiple of max stride 32, updating to [416]\n",
      "WARNING ⚠️ imgsz=[400] must be multiple of max stride 32, updating to [416]\n",
      "WARNING ⚠️ imgsz=[400] must be multiple of max stride 32, updating to [416]\n",
      "WARNING ⚠️ imgsz=[400] must be multiple of max stride 32, updating to [416]\n",
      "WARNING ⚠️ imgsz=[400] must be multiple of max stride 32, updating to [416]\n",
      "WARNING ⚠️ imgsz=[400] must be multiple of max stride 32, updating to [416]\n",
      "WARNING ⚠️ imgsz=[400] must be multiple of max stride 32, updating to [416]\n",
      "WARNING ⚠️ imgsz=[400] must be multiple of max stride 32, updating to [416]\n",
      "WARNING ⚠️ imgsz=[400] must be multiple of max stride 32, updating to [416]\n",
      "WARNING ⚠️ imgsz=[400] must be multiple of max stride 32, updating to [416]\n",
      "WARNING ⚠️ imgsz=[400] must be multiple of max stride 32, updating to [416]\n",
      "WARNING ⚠️ imgsz=[400] must be multiple of max stride 32, updating to [416]\n",
      "WARNING ⚠️ imgsz=[400] must be multiple of max stride 32, updating to [416]\n",
      "WARNING ⚠️ imgsz=[400] must be multiple of max stride 32, updating to [416]\n",
      "WARNING ⚠️ imgsz=[400] must be multiple of max stride 32, updating to [416]\n",
      "WARNING ⚠️ imgsz=[400] must be multiple of max stride 32, updating to [416]\n",
      "WARNING ⚠️ imgsz=[400] must be multiple of max stride 32, updating to [416]\n",
      "WARNING ⚠️ imgsz=[400] must be multiple of max stride 32, updating to [416]\n",
      "WARNING ⚠️ imgsz=[400] must be multiple of max stride 32, updating to [416]\n",
      "WARNING ⚠️ imgsz=[400] must be multiple of max stride 32, updating to [416]\n",
      "WARNING ⚠️ imgsz=[400] must be multiple of max stride 32, updating to [416]\n",
      "WARNING ⚠️ imgsz=[400] must be multiple of max stride 32, updating to [416]\n",
      "WARNING ⚠️ imgsz=[400] must be multiple of max stride 32, updating to [416]\n",
      "WARNING ⚠️ imgsz=[400] must be multiple of max stride 32, updating to [416]\n",
      "WARNING ⚠️ imgsz=[400] must be multiple of max stride 32, updating to [416]\n",
      "WARNING ⚠️ imgsz=[400] must be multiple of max stride 32, updating to [416]\n",
      "WARNING ⚠️ imgsz=[400] must be multiple of max stride 32, updating to [416]\n",
      "WARNING ⚠️ imgsz=[400] must be multiple of max stride 32, updating to [416]\n",
      "WARNING ⚠️ imgsz=[400] must be multiple of max stride 32, updating to [416]\n",
      "WARNING ⚠️ imgsz=[400] must be multiple of max stride 32, updating to [416]\n",
      "WARNING ⚠️ imgsz=[400] must be multiple of max stride 32, updating to [416]\n",
      "WARNING ⚠️ imgsz=[400] must be multiple of max stride 32, updating to [416]\n",
      "WARNING ⚠️ imgsz=[400] must be multiple of max stride 32, updating to [416]\n",
      "WARNING ⚠️ imgsz=[400] must be multiple of max stride 32, updating to [416]\n",
      "WARNING ⚠️ imgsz=[400] must be multiple of max stride 32, updating to [416]\n",
      "WARNING ⚠️ imgsz=[400] must be multiple of max stride 32, updating to [416]\n",
      "WARNING ⚠️ imgsz=[400] must be multiple of max stride 32, updating to [416]\n",
      "WARNING ⚠️ imgsz=[400] must be multiple of max stride 32, updating to [416]\n",
      "WARNING ⚠️ imgsz=[400] must be multiple of max stride 32, updating to [416]\n",
      "WARNING ⚠️ imgsz=[400] must be multiple of max stride 32, updating to [416]\n",
      "WARNING ⚠️ imgsz=[400] must be multiple of max stride 32, updating to [416]\n",
      "WARNING ⚠️ imgsz=[400] must be multiple of max stride 32, updating to [416]\n",
      "WARNING ⚠️ imgsz=[400] must be multiple of max stride 32, updating to [416]\n",
      "WARNING ⚠️ imgsz=[400] must be multiple of max stride 32, updating to [416]\n",
      "WARNING ⚠️ imgsz=[400] must be multiple of max stride 32, updating to [416]\n",
      "WARNING ⚠️ imgsz=[400] must be multiple of max stride 32, updating to [416]\n",
      "WARNING ⚠️ imgsz=[400] must be multiple of max stride 32, updating to [416]\n",
      "WARNING ⚠️ imgsz=[400] must be multiple of max stride 32, updating to [416]\n",
      "WARNING ⚠️ imgsz=[400] must be multiple of max stride 32, updating to [416]\n",
      "WARNING ⚠️ imgsz=[400] must be multiple of max stride 32, updating to [416]\n",
      "WARNING ⚠️ imgsz=[400] must be multiple of max stride 32, updating to [416]\n"
     ]
    }
   ],
   "source": [
    "model_trained = YOLO('runs/detect/train/weights/best.pt')\n",
    "model_trained.fuse()\n",
    "process_video('test.mp4', model_trained)"
   ],
   "metadata": {
    "collapsed": false,
    "ExecuteTime": {
     "end_time": "2024-01-18T11:35:37.104048900Z",
     "start_time": "2024-01-18T11:35:10.190899300Z"
    }
   },
   "id": "972b4821da01034a"
  },
  {
   "cell_type": "code",
   "execution_count": null,
   "outputs": [],
   "source": [],
   "metadata": {
    "collapsed": false
   },
   "id": "a8cef6409908b85"
  }
 ],
 "metadata": {
  "kernelspec": {
   "display_name": "Python 3",
   "language": "python",
   "name": "python3"
  },
  "language_info": {
   "codemirror_mode": {
    "name": "ipython",
    "version": 2
   },
   "file_extension": ".py",
   "mimetype": "text/x-python",
   "name": "python",
   "nbconvert_exporter": "python",
   "pygments_lexer": "ipython2",
   "version": "2.7.6"
  }
 },
 "nbformat": 4,
 "nbformat_minor": 5
}
